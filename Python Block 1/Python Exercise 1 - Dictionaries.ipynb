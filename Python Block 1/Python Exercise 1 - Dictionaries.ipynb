{
 "cells": [
  {
   "cell_type": "markdown",
   "metadata": {},
   "source": [
    "# For the following questions, use the CEOs and More_CEOs dictionaries as defined below."
   ]
  },
  {
   "cell_type": "code",
   "execution_count": 1,
   "metadata": {},
   "outputs": [],
   "source": [
    "CEOs = {'Tim Cook': 'Apple', 'Sundar Pichai': 'Google', 'Satya Nadella': 'Microsoft', 'Bob Chapek': 'Disney'}\n",
    "More_CEOs = {'Elon Musk': 'Tesla', 'Mark Zuckerberg': 'Facebook'}"
   ]
  },
  {
   "cell_type": "markdown",
   "metadata": {},
   "source": [
    "## 1. We want a dictionary of all the CEOs put together. Update the CEOs dictionary to include More_CEOs."
   ]
  },
  {
   "cell_type": "code",
   "execution_count": null,
   "metadata": {},
   "outputs": [],
   "source": []
  },
  {
   "cell_type": "markdown",
   "metadata": {},
   "source": [
    "## 2. We want to have a dictionary with companies as the key. Using the updated CEOs dictionary, transform the dictionary to define CEOs by companies (i.e., {'Apple': 'Tim Cook', 'Google': 'Sundar Pichai',...})."
   ]
  },
  {
   "cell_type": "code",
   "execution_count": null,
   "metadata": {},
   "outputs": [],
   "source": []
  },
  {
   "cell_type": "markdown",
   "metadata": {},
   "source": [
    "## 3. We want only tech companies included in our new dictionary. Delete 'Disney' from the new dictionary."
   ]
  },
  {
   "cell_type": "code",
   "execution_count": null,
   "metadata": {},
   "outputs": [],
   "source": []
  },
  {
   "cell_type": "code",
   "execution_count": null,
   "metadata": {},
   "outputs": [],
   "source": []
  }
 ],
 "metadata": {
  "kernelspec": {
   "display_name": "Python 3 (ipykernel)",
   "language": "python",
   "name": "python3"
  },
  "language_info": {
   "codemirror_mode": {
    "name": "ipython",
    "version": 3
   },
   "file_extension": ".py",
   "mimetype": "text/x-python",
   "name": "python",
   "nbconvert_exporter": "python",
   "pygments_lexer": "ipython3",
   "version": "3.11.7"
  }
 },
 "nbformat": 4,
 "nbformat_minor": 4
}

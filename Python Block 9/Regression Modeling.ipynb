{
 "cells": [
  {
   "cell_type": "markdown",
   "id": "9e27068b-3dbc-4884-97e0-aace78a5b248",
   "metadata": {},
   "source": [
    "# Import required libraries"
   ]
  },
  {
   "cell_type": "code",
   "execution_count": null,
   "id": "fb899307-64d0-4230-8e4e-04b758768e33",
   "metadata": {},
   "outputs": [],
   "source": []
  },
  {
   "cell_type": "code",
   "execution_count": null,
   "id": "529f2dd6-8ae3-4b5b-b624-e5fdccf7450d",
   "metadata": {},
   "outputs": [],
   "source": []
  },
  {
   "cell_type": "markdown",
   "id": "64add788-3278-4ad8-953a-7db68a619fbf",
   "metadata": {},
   "source": [
    "# Read in new .csv as Pandas DataFrame"
   ]
  },
  {
   "cell_type": "code",
   "execution_count": null,
   "id": "9120f9a4-02db-47c0-90ef-f70fa44d2893",
   "metadata": {},
   "outputs": [],
   "source": []
  },
  {
   "cell_type": "markdown",
   "id": "4d03da3a-98b4-487b-8ae1-17847b892c7a",
   "metadata": {},
   "source": [
    "# Scatterplot of relationship"
   ]
  },
  {
   "cell_type": "code",
   "execution_count": null,
   "id": "4f6c6cf9-d768-49e8-b05f-bb34a328c48f",
   "metadata": {},
   "outputs": [],
   "source": []
  },
  {
   "cell_type": "markdown",
   "id": "043b16e9-1c91-417d-9429-68a970c8acbb",
   "metadata": {},
   "source": [
    "# Model Creation"
   ]
  },
  {
   "cell_type": "code",
   "execution_count": null,
   "id": "a13225d9-29f7-43c2-8305-85282a433a0a",
   "metadata": {},
   "outputs": [],
   "source": []
  },
  {
   "cell_type": "code",
   "execution_count": null,
   "id": "b83d403f-e26a-42c9-a14e-257659c70f52",
   "metadata": {},
   "outputs": [],
   "source": []
  },
  {
   "cell_type": "code",
   "execution_count": null,
   "id": "5cd2f181-4cf1-43fc-8085-fb49e238a3e5",
   "metadata": {},
   "outputs": [],
   "source": []
  },
  {
   "cell_type": "markdown",
   "id": "4fa0a998-4016-49c1-ae83-abd2270f0140",
   "metadata": {},
   "source": [
    "# Understanding the Slope and Y-Intercept"
   ]
  },
  {
   "cell_type": "code",
   "execution_count": null,
   "id": "a2cacf20-9cbf-4e52-aaa3-e7e67dc131eb",
   "metadata": {},
   "outputs": [],
   "source": []
  },
  {
   "cell_type": "code",
   "execution_count": null,
   "id": "78405592-9609-4bd9-99dc-6c188c419590",
   "metadata": {},
   "outputs": [],
   "source": []
  },
  {
   "cell_type": "code",
   "execution_count": null,
   "id": "5ec7e83b-cdf6-4f9c-b612-cd222059a841",
   "metadata": {},
   "outputs": [],
   "source": []
  },
  {
   "cell_type": "code",
   "execution_count": null,
   "id": "7ea29906-b00e-4937-8d2d-7c4e7474eab5",
   "metadata": {},
   "outputs": [],
   "source": []
  },
  {
   "cell_type": "code",
   "execution_count": null,
   "id": "8c132a23-5494-4fe6-8c67-80191673fb54",
   "metadata": {},
   "outputs": [],
   "source": []
  },
  {
   "cell_type": "code",
   "execution_count": null,
   "id": "7f896192-cf58-40d1-baac-8e23632616cf",
   "metadata": {},
   "outputs": [],
   "source": []
  },
  {
   "cell_type": "code",
   "execution_count": null,
   "id": "be2a8930-7af3-4da8-af84-9a78212b2512",
   "metadata": {},
   "outputs": [],
   "source": []
  },
  {
   "cell_type": "code",
   "execution_count": null,
   "id": "3823f359-42b4-44b3-af97-397851ff4f50",
   "metadata": {},
   "outputs": [],
   "source": []
  },
  {
   "cell_type": "markdown",
   "id": "14429db9-2427-444f-8cd2-2f058e18f403",
   "metadata": {},
   "source": [
    "# Plotting the model"
   ]
  },
  {
   "cell_type": "code",
   "execution_count": null,
   "id": "7aef63b1-9c19-492f-b626-b84febebdb16",
   "metadata": {},
   "outputs": [],
   "source": []
  },
  {
   "cell_type": "markdown",
   "id": "59393da8-9f39-4423-b3d4-566a9b9764be",
   "metadata": {},
   "source": [
    "# Model performance"
   ]
  },
  {
   "cell_type": "code",
   "execution_count": null,
   "id": "80899c63-6d75-487b-960b-9a0946fa9dcf",
   "metadata": {},
   "outputs": [],
   "source": []
  },
  {
   "cell_type": "code",
   "execution_count": null,
   "id": "ffa4d5cf-9e8a-42e3-9890-cc0c58afb111",
   "metadata": {},
   "outputs": [],
   "source": []
  },
  {
   "cell_type": "code",
   "execution_count": null,
   "id": "36cdd534-d132-4b20-a8fe-58da05002d2a",
   "metadata": {},
   "outputs": [],
   "source": []
  },
  {
   "cell_type": "code",
   "execution_count": null,
   "id": "44c95bc5-7feb-4392-a412-b931f36d6e0f",
   "metadata": {},
   "outputs": [],
   "source": []
  },
  {
   "cell_type": "code",
   "execution_count": null,
   "id": "374cf955-6545-4d26-bf52-7265e4750e94",
   "metadata": {},
   "outputs": [],
   "source": []
  },
  {
   "cell_type": "markdown",
   "id": "674b8f31-aebf-4830-bac2-f1ae55dbe2d5",
   "metadata": {},
   "source": [
    "# Formatting"
   ]
  },
  {
   "cell_type": "code",
   "execution_count": null,
   "id": "ac09e973-6cd9-4ef0-948a-c8d042f00b6e",
   "metadata": {},
   "outputs": [],
   "source": []
  },
  {
   "cell_type": "code",
   "execution_count": null,
   "id": "0e193dc7-2e25-47f2-aa34-794b4e2b8278",
   "metadata": {},
   "outputs": [],
   "source": []
  }
 ],
 "metadata": {
  "kernelspec": {
   "display_name": "Python 3 (ipykernel)",
   "language": "python",
   "name": "python3"
  },
  "language_info": {
   "codemirror_mode": {
    "name": "ipython",
    "version": 3
   },
   "file_extension": ".py",
   "mimetype": "text/x-python",
   "name": "python",
   "nbconvert_exporter": "python",
   "pygments_lexer": "ipython3",
   "version": "3.11.7"
  }
 },
 "nbformat": 4,
 "nbformat_minor": 5
}

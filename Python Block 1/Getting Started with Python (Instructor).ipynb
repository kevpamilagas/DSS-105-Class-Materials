{
 "cells": [
  {
   "cell_type": "markdown",
   "id": "6e49d1de-d098-4aad-b2db-2c5b83e550c8",
   "metadata": {},
   "source": [
    "- Show running code with shift+enter\n",
    "- Add several lines\n",
    "- Show commands of adding above (a) and below (b)\n",
    "- Command mode vs. Edit mode\n",
    "- Delete cells using d+d\n",
    "- Markdown (m) hotkey\n",
    "- Code (y) hokey"
   ]
  },
  {
   "cell_type": "code",
   "execution_count": 1,
   "id": "7b24f76f",
   "metadata": {},
   "outputs": [
    {
     "name": "stdout",
     "output_type": "stream",
     "text": [
      "Hello World\n"
     ]
    }
   ],
   "source": [
    "#This is my first written code\n",
    "print(\"Hello World\")"
   ]
  },
  {
   "cell_type": "code",
   "execution_count": 2,
   "id": "274a0aad-8399-4b82-aa5d-595b68cd2d8c",
   "metadata": {},
   "outputs": [
    {
     "name": "stdout",
     "output_type": "stream",
     "text": [
      "2\n"
     ]
    }
   ],
   "source": [
    "print(1+1)\n",
    "\n",
    "# Heading level 1\n",
    "## Heading level 2\n",
    "### Heading level 3"
   ]
  },
  {
   "cell_type": "markdown",
   "id": "bff34903",
   "metadata": {},
   "source": [
    "use double space to create line breaks  \n",
    "This is how to *italicize text*  \n",
    "This is how to **bold text**  \n",
    "This is how to do ***both***  "
   ]
  },
  {
   "cell_type": "markdown",
   "id": "34cf4d0d",
   "metadata": {},
   "source": [
    "We can generate lists too.\n",
    "- First Item\n",
    "* Second Item\n",
    "+ Third Item\n",
    "    * Sub Item"
   ]
  },
  {
   "cell_type": "markdown",
   "id": "4f9bc187",
   "metadata": {},
   "source": [
    "https://www.markdownguide.org/cheat-sheet/  \n",
    "https://medium.com/analytics-vidhya/the-ultimate-markdown-guide-for-jupyter-notebook-d5e5abf728fd"
   ]
  },
  {
   "cell_type": "code",
   "execution_count": null,
   "id": "5246ce18-3714-451f-8a60-686c6c5665d3",
   "metadata": {},
   "outputs": [],
   "source": []
  },
  {
   "cell_type": "markdown",
   "id": "e85ee169",
   "metadata": {},
   "source": [
    "![](https://th.bing.com/th/id/OLC.HK0l9IPoKrRmaw480x360?&rs=1&pid=ImgDetMain)"
   ]
  },
  {
   "cell_type": "markdown",
   "id": "a091a700",
   "metadata": {},
   "source": [
    "<div class=\"alert alert-block alert-info\">\n",
    "<b>Tip:</b> Use blue boxes (alert-info) for tips and notes.\n",
    "</div>\n",
    "    \n",
    "<div class=\"alert alert-block alert-danger\">\n",
    "<b>Danger:</b> This alert box indicates a dangerous or potentially negative action.\n",
    "</div>"
   ]
  },
  {
   "cell_type": "markdown",
   "id": "543d3bbd-46e0-4154-8879-c0978eec04d6",
   "metadata": {},
   "source": [
    "\\begin{equation}\n",
    "\\bar{x}=\\sum_{i=1}^n \\frac{x_i}{n}\n",
    "\\end{equation}"
   ]
  },
  {
   "cell_type": "markdown",
   "id": "fc0ca87f",
   "metadata": {
    "jp-MarkdownHeadingCollapsed": true
   },
   "source": [
    "# Basic Data Types"
   ]
  },
  {
   "cell_type": "markdown",
   "id": "b2454548",
   "metadata": {},
   "source": [
    "## Defining a Variable"
   ]
  },
  {
   "cell_type": "code",
   "execution_count": 11,
   "id": "07683f19",
   "metadata": {},
   "outputs": [],
   "source": [
    "x = 3"
   ]
  },
  {
   "cell_type": "code",
   "execution_count": 17,
   "id": "efa83106",
   "metadata": {},
   "outputs": [
    {
     "name": "stdout",
     "output_type": "stream",
     "text": [
      "3\n"
     ]
    },
    {
     "data": {
      "text/plain": [
       "3"
      ]
     },
     "execution_count": 17,
     "metadata": {},
     "output_type": "execute_result"
    }
   ],
   "source": [
    "print(x)\n",
    "x"
   ]
  },
  {
   "cell_type": "code",
   "execution_count": 18,
   "id": "2c610074",
   "metadata": {},
   "outputs": [
    {
     "name": "stdout",
     "output_type": "stream",
     "text": [
      "3\n"
     ]
    }
   ],
   "source": [
    "x\n",
    "print(x)"
   ]
  },
  {
   "cell_type": "code",
   "execution_count": 35,
   "id": "6571f432",
   "metadata": {},
   "outputs": [
    {
     "data": {
      "text/plain": [
       "5"
      ]
     },
     "execution_count": 35,
     "metadata": {},
     "output_type": "execute_result"
    }
   ],
   "source": [
    "x1 = 5\n",
    "x1"
   ]
  },
  {
   "cell_type": "code",
   "execution_count": 36,
   "id": "194035db-e5a0-4930-8d2e-2530303f096d",
   "metadata": {},
   "outputs": [
    {
     "ename": "NameError",
     "evalue": "name 'x1' is not defined",
     "output_type": "error",
     "traceback": [
      "\u001b[1;31m---------------------------------------------------------------------------\u001b[0m",
      "\u001b[1;31mNameError\u001b[0m                                 Traceback (most recent call last)",
      "Cell \u001b[1;32mIn[36], line 2\u001b[0m\n\u001b[0;32m      1\u001b[0m \u001b[38;5;28;01mdel\u001b[39;00m x1\n\u001b[1;32m----> 2\u001b[0m x1\n",
      "\u001b[1;31mNameError\u001b[0m: name 'x1' is not defined"
     ]
    }
   ],
   "source": [
    "del x1\n",
    "x1"
   ]
  },
  {
   "cell_type": "code",
   "execution_count": 24,
   "id": "8bdfe9f2",
   "metadata": {},
   "outputs": [
    {
     "ename": "SyntaxError",
     "evalue": "invalid decimal literal (1018838559.py, line 1)",
     "output_type": "error",
     "traceback": [
      "\u001b[1;36m  Cell \u001b[1;32mIn[24], line 1\u001b[1;36m\u001b[0m\n\u001b[1;33m    1x = 5\u001b[0m\n\u001b[1;37m    ^\u001b[0m\n\u001b[1;31mSyntaxError\u001b[0m\u001b[1;31m:\u001b[0m invalid decimal literal\n"
     ]
    }
   ],
   "source": [
    "1x = 5"
   ]
  },
  {
   "cell_type": "code",
   "execution_count": 29,
   "id": "8bd74799",
   "metadata": {},
   "outputs": [],
   "source": [
    "y = 'random words'"
   ]
  },
  {
   "cell_type": "code",
   "execution_count": 30,
   "id": "60a8b6b4",
   "metadata": {},
   "outputs": [
    {
     "name": "stdout",
     "output_type": "stream",
     "text": [
      "random words\n"
     ]
    }
   ],
   "source": [
    "print(y)"
   ]
  },
  {
   "cell_type": "code",
   "execution_count": 31,
   "id": "7d8d0a0b",
   "metadata": {},
   "outputs": [
    {
     "data": {
      "text/plain": [
       "str"
      ]
     },
     "execution_count": 31,
     "metadata": {},
     "output_type": "execute_result"
    }
   ],
   "source": [
    "type(text)"
   ]
  },
  {
   "cell_type": "code",
   "execution_count": 32,
   "id": "646c0c04",
   "metadata": {},
   "outputs": [
    {
     "data": {
      "text/plain": [
       "int"
      ]
     },
     "execution_count": 32,
     "metadata": {},
     "output_type": "execute_result"
    }
   ],
   "source": [
    "type(x1)"
   ]
  },
  {
   "cell_type": "markdown",
   "id": "65a2a157",
   "metadata": {},
   "source": [
    "## Numbers"
   ]
  },
  {
   "cell_type": "code",
   "execution_count": 33,
   "id": "87612483",
   "metadata": {},
   "outputs": [
    {
     "data": {
      "text/plain": [
       "float"
      ]
     },
     "execution_count": 33,
     "metadata": {},
     "output_type": "execute_result"
    }
   ],
   "source": [
    "type(1.5)"
   ]
  },
  {
   "cell_type": "code",
   "execution_count": 3,
   "id": "0df5b0a5",
   "metadata": {},
   "outputs": [
    {
     "data": {
      "text/plain": [
       "123456.0"
      ]
     },
     "execution_count": 3,
     "metadata": {},
     "output_type": "execute_result"
    }
   ],
   "source": [
    "123456."
   ]
  },
  {
   "cell_type": "code",
   "execution_count": 5,
   "id": "466d240b",
   "metadata": {},
   "outputs": [
    {
     "data": {
      "text/plain": [
       "1.23456"
      ]
     },
     "execution_count": 5,
     "metadata": {},
     "output_type": "execute_result"
    }
   ],
   "source": [
    "1.23456"
   ]
  },
  {
   "cell_type": "code",
   "execution_count": 6,
   "id": "b7a3f14e-df04-46c3-85eb-47d63d64dc4d",
   "metadata": {},
   "outputs": [
    {
     "data": {
      "text/plain": [
       "int"
      ]
     },
     "execution_count": 6,
     "metadata": {},
     "output_type": "execute_result"
    }
   ],
   "source": [
    "#take note: a float stores the numbers but also the location of the decimal.\n",
    "type(123456)"
   ]
  },
  {
   "cell_type": "code",
   "execution_count": 44,
   "id": "b9adc7e2",
   "metadata": {},
   "outputs": [
    {
     "data": {
      "text/plain": [
       "2j"
      ]
     },
     "execution_count": 44,
     "metadata": {},
     "output_type": "execute_result"
    }
   ],
   "source": [
    "2j"
   ]
  },
  {
   "cell_type": "code",
   "execution_count": 45,
   "id": "b44e7fa7",
   "metadata": {},
   "outputs": [
    {
     "data": {
      "text/plain": [
       "complex"
      ]
     },
     "execution_count": 45,
     "metadata": {},
     "output_type": "execute_result"
    }
   ],
   "source": [
    "type(2j)"
   ]
  },
  {
   "cell_type": "code",
   "execution_count": 7,
   "id": "e1a31b14-00f7-47d4-b4ae-b01c60e53b28",
   "metadata": {},
   "outputs": [
    {
     "data": {
      "text/plain": [
       "4j"
      ]
     },
     "execution_count": 7,
     "metadata": {},
     "output_type": "execute_result"
    }
   ],
   "source": [
    "2j + 2j"
   ]
  },
  {
   "cell_type": "code",
   "execution_count": 8,
   "id": "8d00417c",
   "metadata": {},
   "outputs": [
    {
     "data": {
      "text/plain": [
       "(-1+0j)"
      ]
     },
     "execution_count": 8,
     "metadata": {},
     "output_type": "execute_result"
    }
   ],
   "source": [
    "1j * 1j"
   ]
  },
  {
   "cell_type": "markdown",
   "id": "76e52265",
   "metadata": {},
   "source": [
    "## Strings"
   ]
  },
  {
   "cell_type": "code",
   "execution_count": 9,
   "id": "a3f56e34",
   "metadata": {},
   "outputs": [
    {
     "data": {
      "text/plain": [
       "'Text 1Text 2'"
      ]
     },
     "execution_count": 9,
     "metadata": {},
     "output_type": "execute_result"
    }
   ],
   "source": [
    "'Text 1' + 'Text 2'"
   ]
  },
  {
   "cell_type": "code",
   "execution_count": 10,
   "id": "89ea85ab",
   "metadata": {},
   "outputs": [
    {
     "data": {
      "text/plain": [
       "'12'"
      ]
     },
     "execution_count": 10,
     "metadata": {},
     "output_type": "execute_result"
    }
   ],
   "source": [
    "'1' + '2'"
   ]
  },
  {
   "cell_type": "code",
   "execution_count": 11,
   "id": "12a14ceb",
   "metadata": {},
   "outputs": [
    {
     "ename": "TypeError",
     "evalue": "can only concatenate str (not \"int\") to str",
     "output_type": "error",
     "traceback": [
      "\u001b[1;31m---------------------------------------------------------------------------\u001b[0m",
      "\u001b[1;31mTypeError\u001b[0m                                 Traceback (most recent call last)",
      "Cell \u001b[1;32mIn[11], line 1\u001b[0m\n\u001b[1;32m----> 1\u001b[0m \u001b[38;5;124m'\u001b[39m\u001b[38;5;124m1\u001b[39m\u001b[38;5;124m'\u001b[39m \u001b[38;5;241m+\u001b[39m \u001b[38;5;241m2\u001b[39m\n",
      "\u001b[1;31mTypeError\u001b[0m: can only concatenate str (not \"int\") to str"
     ]
    }
   ],
   "source": [
    "#we cannot combine a string an a text\n",
    "'1' + 2"
   ]
  },
  {
   "cell_type": "markdown",
   "id": "f6271508",
   "metadata": {},
   "source": [
    "## Booleans"
   ]
  },
  {
   "cell_type": "code",
   "execution_count": 12,
   "id": "cb39bf0e",
   "metadata": {},
   "outputs": [
    {
     "data": {
      "text/plain": [
       "True"
      ]
     },
     "execution_count": 12,
     "metadata": {},
     "output_type": "execute_result"
    }
   ],
   "source": [
    "True"
   ]
  },
  {
   "cell_type": "code",
   "execution_count": 13,
   "id": "a1863800",
   "metadata": {},
   "outputs": [
    {
     "data": {
      "text/plain": [
       "False"
      ]
     },
     "execution_count": 13,
     "metadata": {},
     "output_type": "execute_result"
    }
   ],
   "source": [
    "False"
   ]
  },
  {
   "cell_type": "code",
   "execution_count": 14,
   "id": "ee7ea55c",
   "metadata": {},
   "outputs": [],
   "source": [
    "true = False"
   ]
  },
  {
   "cell_type": "code",
   "execution_count": 15,
   "id": "930a114c",
   "metadata": {},
   "outputs": [
    {
     "data": {
      "text/plain": [
       "False"
      ]
     },
     "execution_count": 15,
     "metadata": {},
     "output_type": "execute_result"
    }
   ],
   "source": [
    "true"
   ]
  },
  {
   "cell_type": "code",
   "execution_count": 16,
   "id": "a49175b4-9a4c-4b12-9c12-b737bed4adae",
   "metadata": {},
   "outputs": [
    {
     "ename": "SyntaxError",
     "evalue": "cannot assign to True (1601851819.py, line 1)",
     "output_type": "error",
     "traceback": [
      "\u001b[1;36m  Cell \u001b[1;32mIn[16], line 1\u001b[1;36m\u001b[0m\n\u001b[1;33m    True = False\u001b[0m\n\u001b[1;37m    ^\u001b[0m\n\u001b[1;31mSyntaxError\u001b[0m\u001b[1;31m:\u001b[0m cannot assign to True\n"
     ]
    }
   ],
   "source": [
    "#if we want to compare two things against each other\n",
    "True = False"
   ]
  },
  {
   "cell_type": "code",
   "execution_count": 17,
   "id": "3fe4d95a-ba7e-40e1-8959-a1daaa6fe1ae",
   "metadata": {},
   "outputs": [
    {
     "data": {
      "text/plain": [
       "False"
      ]
     },
     "execution_count": 17,
     "metadata": {},
     "output_type": "execute_result"
    }
   ],
   "source": [
    "#we have to use the comparison operator of ==\n",
    "True == False"
   ]
  },
  {
   "cell_type": "code",
   "execution_count": 29,
   "id": "450df246-0439-4a0c-aae8-00f39214d973",
   "metadata": {},
   "outputs": [
    {
     "data": {
      "text/plain": [
       "True"
      ]
     },
     "execution_count": 29,
     "metadata": {},
     "output_type": "execute_result"
    }
   ],
   "source": [
    "#the not equal comparison\n",
    "True != False"
   ]
  },
  {
   "cell_type": "code",
   "execution_count": 18,
   "id": "0301734b",
   "metadata": {},
   "outputs": [
    {
     "data": {
      "text/plain": [
       "True"
      ]
     },
     "execution_count": 18,
     "metadata": {},
     "output_type": "execute_result"
    }
   ],
   "source": [
    "1 == 1"
   ]
  },
  {
   "cell_type": "code",
   "execution_count": 19,
   "id": "7075681a",
   "metadata": {},
   "outputs": [
    {
     "data": {
      "text/plain": [
       "False"
      ]
     },
     "execution_count": 19,
     "metadata": {},
     "output_type": "execute_result"
    }
   ],
   "source": [
    "1 == 2"
   ]
  },
  {
   "cell_type": "code",
   "execution_count": 37,
   "id": "593c0830-c4be-4251-a7ee-2ad5f17eb528",
   "metadata": {},
   "outputs": [
    {
     "data": {
      "text/plain": [
       "True"
      ]
     },
     "execution_count": 37,
     "metadata": {},
     "output_type": "execute_result"
    }
   ],
   "source": [
    "1 + 1 == 2"
   ]
  },
  {
   "cell_type": "markdown",
   "id": "67188ae8",
   "metadata": {
    "jp-MarkdownHeadingCollapsed": true
   },
   "source": [
    "# Data Structures"
   ]
  },
  {
   "cell_type": "markdown",
   "id": "1d931544",
   "metadata": {},
   "source": [
    "## Lists"
   ]
  },
  {
   "cell_type": "code",
   "execution_count": 34,
   "id": "09797aff-8c1c-4d8d-9240-e20ecf962639",
   "metadata": {},
   "outputs": [
    {
     "data": {
      "text/plain": [
       "list"
      ]
     },
     "execution_count": 34,
     "metadata": {},
     "output_type": "execute_result"
    }
   ],
   "source": [
    "empty_list = []\n",
    "type(empty_list)"
   ]
  },
  {
   "cell_type": "code",
   "execution_count": 35,
   "id": "5f974354",
   "metadata": {},
   "outputs": [
    {
     "name": "stdout",
     "output_type": "stream",
     "text": [
      "[1, 2, 3, 4]\n"
     ]
    }
   ],
   "source": [
    "list_1 = [1,2,3,4]\n",
    "print(list_1)"
   ]
  },
  {
   "cell_type": "code",
   "execution_count": 36,
   "id": "aa126018",
   "metadata": {},
   "outputs": [
    {
     "data": {
      "text/plain": [
       "list"
      ]
     },
     "execution_count": 36,
     "metadata": {},
     "output_type": "execute_result"
    }
   ],
   "source": [
    "type(list_1)"
   ]
  },
  {
   "cell_type": "code",
   "execution_count": 37,
   "id": "3c2d2d16",
   "metadata": {},
   "outputs": [],
   "source": [
    "list_2 = ['list', 'of', 'words']"
   ]
  },
  {
   "cell_type": "code",
   "execution_count": 38,
   "id": "f00c527e",
   "metadata": {},
   "outputs": [
    {
     "name": "stdout",
     "output_type": "stream",
     "text": [
      "[[1, 2, 3, 4], ['list', 'of', 'words'], False]\n"
     ]
    }
   ],
   "source": [
    "list_3 = [list_1, list_2, False]\n",
    "print(list_3)"
   ]
  },
  {
   "cell_type": "code",
   "execution_count": 39,
   "id": "1a25cf03",
   "metadata": {},
   "outputs": [
    {
     "data": {
      "text/plain": [
       "4"
      ]
     },
     "execution_count": 39,
     "metadata": {},
     "output_type": "execute_result"
    }
   ],
   "source": [
    "#we can get the length of a list using len()\n",
    "len(list_1)"
   ]
  },
  {
   "cell_type": "code",
   "execution_count": 40,
   "id": "44ae22a4",
   "metadata": {},
   "outputs": [
    {
     "data": {
      "text/plain": [
       "3"
      ]
     },
     "execution_count": 40,
     "metadata": {},
     "output_type": "execute_result"
    }
   ],
   "source": [
    "#why is the length smaller for list_3?\n",
    "len(list_3)"
   ]
  },
  {
   "cell_type": "code",
   "execution_count": 41,
   "id": "8a37c104-8f90-4616-8ca2-89c2e28120c9",
   "metadata": {},
   "outputs": [
    {
     "data": {
      "text/plain": [
       "[1, 2, 3, 4, 5]"
      ]
     },
     "execution_count": 41,
     "metadata": {},
     "output_type": "execute_result"
    }
   ],
   "source": [
    "#show tab feature to bring up some options (type list_1. then hit tab)\n",
    "list_1.append(5)\n",
    "list_1"
   ]
  },
  {
   "cell_type": "code",
   "execution_count": 42,
   "id": "7d80a1cd-d102-43a3-ae6b-a8cce0a5948d",
   "metadata": {},
   "outputs": [
    {
     "data": {
      "text/plain": [
       "[1, 2, 3, 4]"
      ]
     },
     "execution_count": 42,
     "metadata": {},
     "output_type": "execute_result"
    }
   ],
   "source": [
    "list_1.remove(5)\n",
    "list_1"
   ]
  },
  {
   "cell_type": "code",
   "execution_count": 43,
   "id": "b8622668-0360-4e71-aa1a-ea112f20248f",
   "metadata": {},
   "outputs": [
    {
     "data": {
      "text/plain": [
       "[1, 2, 3, 4, ['list', 'of', 'words']]"
      ]
     },
     "execution_count": 43,
     "metadata": {},
     "output_type": "execute_result"
    }
   ],
   "source": [
    "#we cannot just use the append function to add lists together\n",
    "list_1.append(list_2)\n",
    "list_1"
   ]
  },
  {
   "cell_type": "code",
   "execution_count": 44,
   "id": "210a00a4-ae10-4a52-8378-b95cbac3e7da",
   "metadata": {},
   "outputs": [
    {
     "data": {
      "text/plain": [
       "[0, 1, 2, 3, 4, ['list', 'of', 'words']]"
      ]
     },
     "execution_count": 44,
     "metadata": {},
     "output_type": "execute_result"
    }
   ],
   "source": [
    "list_1.insert(0,0)\n",
    "list_1"
   ]
  },
  {
   "cell_type": "markdown",
   "id": "cb1a7e19",
   "metadata": {},
   "source": [
    "## Sets"
   ]
  },
  {
   "cell_type": "code",
   "execution_count": 39,
   "id": "1a4ea80e",
   "metadata": {},
   "outputs": [
    {
     "name": "stdout",
     "output_type": "stream",
     "text": [
      "{1, 2, 3, 4, 5}\n"
     ]
    }
   ],
   "source": [
    "set_1 = {1,2,3,4,5}\n",
    "print(set_1)"
   ]
  },
  {
   "cell_type": "code",
   "execution_count": 40,
   "id": "5f4cb794",
   "metadata": {},
   "outputs": [
    {
     "data": {
      "text/plain": [
       "set"
      ]
     },
     "execution_count": 40,
     "metadata": {},
     "output_type": "execute_result"
    }
   ],
   "source": [
    "type(set_1)"
   ]
  },
  {
   "cell_type": "code",
   "execution_count": 41,
   "id": "27f27d33",
   "metadata": {},
   "outputs": [
    {
     "data": {
      "text/plain": [
       "5"
      ]
     },
     "execution_count": 41,
     "metadata": {},
     "output_type": "execute_result"
    }
   ],
   "source": [
    "len(set_1)"
   ]
  },
  {
   "cell_type": "code",
   "execution_count": 80,
   "id": "84b7fedf",
   "metadata": {},
   "outputs": [
    {
     "data": {
      "text/plain": [
       "3"
      ]
     },
     "execution_count": 80,
     "metadata": {},
     "output_type": "execute_result"
    }
   ],
   "source": [
    "set_2 = {1,1,2,3,2}\n",
    "len(set_2)"
   ]
  },
  {
   "cell_type": "code",
   "execution_count": 81,
   "id": "449b4a4f",
   "metadata": {},
   "outputs": [
    {
     "name": "stdout",
     "output_type": "stream",
     "text": [
      "{1, 2, 3}\n"
     ]
    }
   ],
   "source": [
    "print(set_2)"
   ]
  },
  {
   "cell_type": "code",
   "execution_count": 82,
   "id": "b5ebf484",
   "metadata": {},
   "outputs": [
    {
     "data": {
      "text/plain": [
       "True"
      ]
     },
     "execution_count": 82,
     "metadata": {},
     "output_type": "execute_result"
    }
   ],
   "source": [
    "set_2 == {1,2,3}"
   ]
  },
  {
   "cell_type": "code",
   "execution_count": 88,
   "id": "98587cc3",
   "metadata": {},
   "outputs": [
    {
     "data": {
      "text/plain": [
       "True"
      ]
     },
     "execution_count": 88,
     "metadata": {},
     "output_type": "execute_result"
    }
   ],
   "source": [
    "set_2 == {3,2,1}"
   ]
  },
  {
   "cell_type": "code",
   "execution_count": 84,
   "id": "b670e870",
   "metadata": {},
   "outputs": [
    {
     "data": {
      "text/plain": [
       "True"
      ]
     },
     "execution_count": 84,
     "metadata": {},
     "output_type": "execute_result"
    }
   ],
   "source": [
    "set_2 == {3,2,1,1,2,2}"
   ]
  },
  {
   "cell_type": "code",
   "execution_count": 52,
   "id": "2adf23d0-d3f5-4c75-b3ae-c381c2f50be0",
   "metadata": {},
   "outputs": [
    {
     "data": {
      "text/plain": [
       "{1, 2, 3}"
      ]
     },
     "execution_count": 52,
     "metadata": {},
     "output_type": "execute_result"
    }
   ],
   "source": [
    "{3,2,1,1,2,2}"
   ]
  },
  {
   "cell_type": "code",
   "execution_count": 43,
   "id": "53de345a-a7fc-4ef8-b45e-2d74b0585762",
   "metadata": {},
   "outputs": [
    {
     "data": {
      "text/plain": [
       "[1, 2, 3, 4]"
      ]
     },
     "execution_count": 43,
     "metadata": {},
     "output_type": "execute_result"
    }
   ],
   "source": [
    "#recreate our list\n",
    "list_1 = [1,2,3,4]\n",
    "list_1"
   ]
  },
  {
   "cell_type": "code",
   "execution_count": 87,
   "id": "25f6aedc",
   "metadata": {},
   "outputs": [
    {
     "data": {
      "text/plain": [
       "True"
      ]
     },
     "execution_count": 87,
     "metadata": {},
     "output_type": "execute_result"
    }
   ],
   "source": [
    "list_1 == [1,2,3,4]"
   ]
  },
  {
   "cell_type": "code",
   "execution_count": 44,
   "id": "f90e8e39",
   "metadata": {},
   "outputs": [
    {
     "data": {
      "text/plain": [
       "False"
      ]
     },
     "execution_count": 44,
     "metadata": {},
     "output_type": "execute_result"
    }
   ],
   "source": [
    "#notice order matters for a list\n",
    "list_1 == [4,3,2,1]"
   ]
  },
  {
   "cell_type": "markdown",
   "id": "c3bae921",
   "metadata": {},
   "source": [
    "## Tuples"
   ]
  },
  {
   "cell_type": "code",
   "execution_count": 46,
   "id": "f681666b",
   "metadata": {},
   "outputs": [
    {
     "data": {
      "text/plain": [
       "(1, 2, 3)"
      ]
     },
     "execution_count": 46,
     "metadata": {},
     "output_type": "execute_result"
    }
   ],
   "source": [
    "tuple_1 = (1,2,3)\n",
    "tuple_1"
   ]
  },
  {
   "cell_type": "code",
   "execution_count": 47,
   "id": "c028488a-7e34-41c5-be17-18d41f789cf1",
   "metadata": {},
   "outputs": [
    {
     "data": {
      "text/plain": [
       "tuple"
      ]
     },
     "execution_count": 47,
     "metadata": {},
     "output_type": "execute_result"
    }
   ],
   "source": [
    "type(tuple_1)"
   ]
  },
  {
   "cell_type": "code",
   "execution_count": 48,
   "id": "791e3c67",
   "metadata": {},
   "outputs": [
    {
     "data": {
      "text/plain": [
       "3"
      ]
     },
     "execution_count": 48,
     "metadata": {},
     "output_type": "execute_result"
    }
   ],
   "source": [
    "len(tuple_1)"
   ]
  },
  {
   "cell_type": "code",
   "execution_count": 49,
   "id": "48b2c76c",
   "metadata": {},
   "outputs": [
    {
     "data": {
      "text/plain": [
       "False"
      ]
     },
     "execution_count": 49,
     "metadata": {},
     "output_type": "execute_result"
    }
   ],
   "source": [
    "tuple_1 == (3,2,1)"
   ]
  },
  {
   "cell_type": "code",
   "execution_count": 50,
   "id": "11329dfb",
   "metadata": {},
   "outputs": [
    {
     "name": "stdout",
     "output_type": "stream",
     "text": [
      "[1, 2, 3, 4, 5]\n"
     ]
    }
   ],
   "source": [
    "list_1.append(5)\n",
    "print(list_1)"
   ]
  },
  {
   "cell_type": "code",
   "execution_count": 105,
   "id": "0929b7f1",
   "metadata": {},
   "outputs": [
    {
     "ename": "AttributeError",
     "evalue": "'tuple' object has no attribute 'append'",
     "output_type": "error",
     "traceback": [
      "\u001b[1;31m---------------------------------------------------------------------------\u001b[0m",
      "\u001b[1;31mAttributeError\u001b[0m                            Traceback (most recent call last)",
      "Cell \u001b[1;32mIn[105], line 1\u001b[0m\n\u001b[1;32m----> 1\u001b[0m tuple_1\u001b[38;5;241m.\u001b[39mappend(\u001b[38;5;241m5\u001b[39m)\n",
      "\u001b[1;31mAttributeError\u001b[0m: 'tuple' object has no attribute 'append'"
     ]
    }
   ],
   "source": [
    "tuple_1.append(5)"
   ]
  },
  {
   "cell_type": "code",
   "execution_count": 51,
   "id": "81200cde",
   "metadata": {},
   "outputs": [
    {
     "name": "stdout",
     "output_type": "stream",
     "text": [
      "{1, 2, 3, 4, 5, 7}\n"
     ]
    }
   ],
   "source": [
    "#comparing it to sets, notice that it uses a completely different function to add\n",
    "set_1.update({7})\n",
    "print(set_1)"
   ]
  },
  {
   "cell_type": "markdown",
   "id": "32a88e02",
   "metadata": {},
   "source": [
    "- Why use tuples?\n",
    "- Memory efficiency\n",
    "    - Lists make assumption that it has to make extra space\n",
    "    - Tuples use an exact amount of space\n",
    "- Good for storing x,y coordinates"
   ]
  },
  {
   "cell_type": "markdown",
   "id": "88508187",
   "metadata": {},
   "source": [
    "## Dictionaries"
   ]
  },
  {
   "cell_type": "code",
   "execution_count": 10,
   "id": "75808c9d-0546-40d2-9ab9-cf1bbe888706",
   "metadata": {},
   "outputs": [
    {
     "data": {
      "text/plain": [
       "dict"
      ]
     },
     "execution_count": 10,
     "metadata": {},
     "output_type": "execute_result"
    }
   ],
   "source": [
    "empty_dictionary = {}\n",
    "type(empty_dictionary)"
   ]
  },
  {
   "cell_type": "code",
   "execution_count": 1,
   "id": "3b1dbd26",
   "metadata": {},
   "outputs": [
    {
     "name": "stdout",
     "output_type": "stream",
     "text": [
      "{'sheepadoodle': 'Louie', 'cockapoo': 'Zoe'}\n"
     ]
    }
   ],
   "source": [
    "dict_1 = {\n",
    "    'sheepadoodle': 'Louie',\n",
    "    'cockapoo': 'Zoe'\n",
    "}\n",
    "print(dict_1)"
   ]
  },
  {
   "cell_type": "code",
   "execution_count": 2,
   "id": "721e5f87",
   "metadata": {},
   "outputs": [
    {
     "data": {
      "text/plain": [
       "dict_keys(['sheepadoodle', 'cockapoo'])"
      ]
     },
     "execution_count": 2,
     "metadata": {},
     "output_type": "execute_result"
    }
   ],
   "source": [
    "#there are two components to dictionaries\n",
    "#the first are the keys\n",
    "dict_1.keys()"
   ]
  },
  {
   "cell_type": "code",
   "execution_count": 3,
   "id": "acd43524",
   "metadata": {},
   "outputs": [
    {
     "data": {
      "text/plain": [
       "dict_values(['Louie', 'Zoe'])"
      ]
     },
     "execution_count": 3,
     "metadata": {},
     "output_type": "execute_result"
    }
   ],
   "source": [
    "#the second are the values\n",
    "dict_1.values()"
   ]
  },
  {
   "cell_type": "code",
   "execution_count": 4,
   "id": "cc977d87",
   "metadata": {},
   "outputs": [
    {
     "data": {
      "text/plain": [
       "'Louie'"
      ]
     },
     "execution_count": 4,
     "metadata": {},
     "output_type": "execute_result"
    }
   ],
   "source": [
    "dict_1['sheepadoodle']"
   ]
  },
  {
   "cell_type": "code",
   "execution_count": 5,
   "id": "b6793d3a",
   "metadata": {},
   "outputs": [
    {
     "name": "stdout",
     "output_type": "stream",
     "text": [
      "{'sheepadoodle': 'Luna', 'cockapoo': 'Zoe'}\n"
     ]
    }
   ],
   "source": [
    "dict_2 = {\n",
    "    'sheepadoodle': 'Louie',\n",
    "    'cockapoo': 'Zoe',\n",
    "    'sheepadoodle': 'Luna'\n",
    "}\n",
    "print(dict_2)"
   ]
  },
  {
   "cell_type": "code",
   "execution_count": 6,
   "id": "24dd5ac9-4ec1-4d03-9cc6-e479ed643f83",
   "metadata": {},
   "outputs": [
    {
     "data": {
      "text/plain": [
       "{'sheepadoodle': 'Luna', 'cockapoo': 'Zoe', 'labradoodle': 'Ava'}"
      ]
     },
     "execution_count": 6,
     "metadata": {},
     "output_type": "execute_result"
    }
   ],
   "source": [
    "#just like with sets, we use the update function to add to a dictionary (use tab to show choices)\n",
    "#notice we have to update it with a set \n",
    "dict_2.update({'labradoodle': 'Ava'})\n",
    "dict_2"
   ]
  },
  {
   "cell_type": "code",
   "execution_count": 7,
   "id": "acece2cc-4346-4fd9-8e92-5a7df363336d",
   "metadata": {},
   "outputs": [
    {
     "data": {
      "text/plain": [
       "{'sheepadoodle': 'Luna', 'cockapoo': 'Zoe'}"
      ]
     },
     "execution_count": 7,
     "metadata": {},
     "output_type": "execute_result"
    }
   ],
   "source": [
    "del dict_2['labradoodle']\n",
    "dict_2"
   ]
  },
  {
   "cell_type": "code",
   "execution_count": 8,
   "id": "cda1ce72-97eb-4f27-8c6b-60a64e0354df",
   "metadata": {},
   "outputs": [
    {
     "data": {
      "text/plain": [
       "{'sheepadoodle': 'Luna', 'cockapoo': 'Zoe', 'labradoodle': 'Ava'}"
      ]
     },
     "execution_count": 8,
     "metadata": {},
     "output_type": "execute_result"
    }
   ],
   "source": [
    "dict_2['labradoodle'] = 'Ava'\n",
    "dict_2"
   ]
  },
  {
   "cell_type": "markdown",
   "id": "ddf8c770",
   "metadata": {
    "jp-MarkdownHeadingCollapsed": true
   },
   "source": [
    "# Operators"
   ]
  },
  {
   "cell_type": "markdown",
   "id": "31d0c96b",
   "metadata": {},
   "source": [
    "## Arithmetic Operators"
   ]
  },
  {
   "cell_type": "code",
   "execution_count": 117,
   "id": "751e5d4d",
   "metadata": {},
   "outputs": [
    {
     "data": {
      "text/plain": [
       "2"
      ]
     },
     "execution_count": 117,
     "metadata": {},
     "output_type": "execute_result"
    }
   ],
   "source": [
    "1 + 1"
   ]
  },
  {
   "cell_type": "code",
   "execution_count": 118,
   "id": "cb6dc453",
   "metadata": {},
   "outputs": [
    {
     "data": {
      "text/plain": [
       "6"
      ]
     },
     "execution_count": 118,
     "metadata": {},
     "output_type": "execute_result"
    }
   ],
   "source": [
    "2 * 3"
   ]
  },
  {
   "cell_type": "code",
   "execution_count": 119,
   "id": "510a2814",
   "metadata": {},
   "outputs": [
    {
     "data": {
      "text/plain": [
       "25"
      ]
     },
     "execution_count": 119,
     "metadata": {},
     "output_type": "execute_result"
    }
   ],
   "source": [
    "5 ** 2"
   ]
  },
  {
   "cell_type": "code",
   "execution_count": 121,
   "id": "986f81ef",
   "metadata": {},
   "outputs": [
    {
     "data": {
      "text/plain": [
       "4.0"
      ]
     },
     "execution_count": 121,
     "metadata": {},
     "output_type": "execute_result"
    }
   ],
   "source": [
    "20/5"
   ]
  },
  {
   "cell_type": "code",
   "execution_count": 122,
   "id": "85359970",
   "metadata": {},
   "outputs": [
    {
     "data": {
      "text/plain": [
       "6.666666666666667"
      ]
     },
     "execution_count": 122,
     "metadata": {},
     "output_type": "execute_result"
    }
   ],
   "source": [
    "20/3"
   ]
  },
  {
   "cell_type": "code",
   "execution_count": 123,
   "id": "74f5a533",
   "metadata": {},
   "outputs": [
    {
     "data": {
      "text/plain": [
       "0"
      ]
     },
     "execution_count": 123,
     "metadata": {},
     "output_type": "execute_result"
    }
   ],
   "source": [
    "20 % 4"
   ]
  },
  {
   "cell_type": "code",
   "execution_count": 124,
   "id": "5f4a081f",
   "metadata": {},
   "outputs": [
    {
     "data": {
      "text/plain": [
       "2"
      ]
     },
     "execution_count": 124,
     "metadata": {},
     "output_type": "execute_result"
    }
   ],
   "source": [
    "20 % 3"
   ]
  },
  {
   "cell_type": "code",
   "execution_count": 38,
   "id": "2df296ad-c555-4658-8075-fbeeaa67fd74",
   "metadata": {},
   "outputs": [
    {
     "data": {
      "text/plain": [
       "True"
      ]
     },
     "execution_count": 38,
     "metadata": {},
     "output_type": "execute_result"
    }
   ],
   "source": [
    "#So how would we check if 20 is divisible by 5?\n",
    "#What does it mean to be divisible by a number?\n",
    "20 % 5 == 0"
   ]
  },
  {
   "cell_type": "markdown",
   "id": "92066c58",
   "metadata": {},
   "source": [
    "## String Arithmetic"
   ]
  },
  {
   "cell_type": "code",
   "execution_count": 125,
   "id": "724b1167",
   "metadata": {},
   "outputs": [
    {
     "data": {
      "text/plain": [
       "'Text 1Text 2'"
      ]
     },
     "execution_count": 125,
     "metadata": {},
     "output_type": "execute_result"
    }
   ],
   "source": [
    "'Text 1' + 'Text 2'"
   ]
  },
  {
   "cell_type": "code",
   "execution_count": 126,
   "id": "037af100",
   "metadata": {},
   "outputs": [
    {
     "ename": "TypeError",
     "evalue": "can only concatenate str (not \"int\") to str",
     "output_type": "error",
     "traceback": [
      "\u001b[1;31m---------------------------------------------------------------------------\u001b[0m",
      "\u001b[1;31mTypeError\u001b[0m                                 Traceback (most recent call last)",
      "Cell \u001b[1;32mIn[126], line 1\u001b[0m\n\u001b[1;32m----> 1\u001b[0m \u001b[38;5;124m'\u001b[39m\u001b[38;5;124mText 1\u001b[39m\u001b[38;5;124m'\u001b[39m \u001b[38;5;241m+\u001b[39m \u001b[38;5;241m4\u001b[39m\n",
      "\u001b[1;31mTypeError\u001b[0m: can only concatenate str (not \"int\") to str"
     ]
    }
   ],
   "source": [
    "'Text 1' + 4"
   ]
  },
  {
   "cell_type": "code",
   "execution_count": 127,
   "id": "909bc273",
   "metadata": {},
   "outputs": [
    {
     "data": {
      "text/plain": [
       "'Text 1Text 1Text 1Text 1'"
      ]
     },
     "execution_count": 127,
     "metadata": {},
     "output_type": "execute_result"
    }
   ],
   "source": [
    "#the * works as a \"duplicate\" function\n",
    "'Text 1' * 4"
   ]
  },
  {
   "cell_type": "markdown",
   "id": "62b28c80",
   "metadata": {},
   "source": [
    "## Comparison Operators"
   ]
  },
  {
   "cell_type": "code",
   "execution_count": 128,
   "id": "71f8ddaa",
   "metadata": {},
   "outputs": [
    {
     "data": {
      "text/plain": [
       "True"
      ]
     },
     "execution_count": 128,
     "metadata": {},
     "output_type": "execute_result"
    }
   ],
   "source": [
    "1 == 1"
   ]
  },
  {
   "cell_type": "code",
   "execution_count": 129,
   "id": "303c8316",
   "metadata": {},
   "outputs": [
    {
     "data": {
      "text/plain": [
       "False"
      ]
     },
     "execution_count": 129,
     "metadata": {},
     "output_type": "execute_result"
    }
   ],
   "source": [
    "4 > 5"
   ]
  },
  {
   "cell_type": "code",
   "execution_count": 130,
   "id": "0db19557",
   "metadata": {},
   "outputs": [
    {
     "data": {
      "text/plain": [
       "False"
      ]
     },
     "execution_count": 130,
     "metadata": {},
     "output_type": "execute_result"
    }
   ],
   "source": [
    "3 <= 2"
   ]
  },
  {
   "cell_type": "code",
   "execution_count": 131,
   "id": "1f24aacd",
   "metadata": {},
   "outputs": [
    {
     "data": {
      "text/plain": [
       "True"
      ]
     },
     "execution_count": 131,
     "metadata": {},
     "output_type": "execute_result"
    }
   ],
   "source": [
    "3 >= 2"
   ]
  },
  {
   "cell_type": "markdown",
   "id": "ae62c577",
   "metadata": {},
   "source": [
    "## Logic Operators"
   ]
  },
  {
   "cell_type": "code",
   "execution_count": 137,
   "id": "75c89e11",
   "metadata": {},
   "outputs": [
    {
     "data": {
      "text/plain": [
       "True"
      ]
     },
     "execution_count": 137,
     "metadata": {},
     "output_type": "execute_result"
    }
   ],
   "source": [
    "True and True"
   ]
  },
  {
   "cell_type": "code",
   "execution_count": 138,
   "id": "88e8591f",
   "metadata": {},
   "outputs": [
    {
     "data": {
      "text/plain": [
       "False"
      ]
     },
     "execution_count": 138,
     "metadata": {},
     "output_type": "execute_result"
    }
   ],
   "source": [
    "False and False"
   ]
  },
  {
   "cell_type": "code",
   "execution_count": 139,
   "id": "36ae6b3c",
   "metadata": {},
   "outputs": [
    {
     "data": {
      "text/plain": [
       "False"
      ]
     },
     "execution_count": 139,
     "metadata": {},
     "output_type": "execute_result"
    }
   ],
   "source": [
    "True and False"
   ]
  },
  {
   "cell_type": "code",
   "execution_count": 140,
   "id": "ec0c33bb",
   "metadata": {},
   "outputs": [
    {
     "data": {
      "text/plain": [
       "True"
      ]
     },
     "execution_count": 140,
     "metadata": {},
     "output_type": "execute_result"
    }
   ],
   "source": [
    "True or False"
   ]
  },
  {
   "cell_type": "code",
   "execution_count": 66,
   "id": "ccee8f0c-159e-4620-a2ce-656d8d48173c",
   "metadata": {},
   "outputs": [
    {
     "data": {
      "text/plain": [
       "True"
      ]
     },
     "execution_count": 66,
     "metadata": {},
     "output_type": "execute_result"
    }
   ],
   "source": [
    "#if the above didn't make sense, try thinking about it mathematically\n",
    "12%3 == 0 and 12%6 == 0"
   ]
  },
  {
   "cell_type": "code",
   "execution_count": 67,
   "id": "ca0ed514-e9eb-44f5-b8db-f97f282a8542",
   "metadata": {},
   "outputs": [
    {
     "data": {
      "text/plain": [
       "False"
      ]
     },
     "execution_count": 67,
     "metadata": {},
     "output_type": "execute_result"
    }
   ],
   "source": [
    "9%3 == 0 and 9%6 == 0"
   ]
  },
  {
   "cell_type": "code",
   "execution_count": 68,
   "id": "d01e036f-fa68-40a7-9c7a-31269c9b0dbf",
   "metadata": {},
   "outputs": [
    {
     "data": {
      "text/plain": [
       "True"
      ]
     },
     "execution_count": 68,
     "metadata": {},
     "output_type": "execute_result"
    }
   ],
   "source": [
    "9%3 == 0 or 9%6 == 0"
   ]
  },
  {
   "cell_type": "code",
   "execution_count": 141,
   "id": "bcef5945",
   "metadata": {},
   "outputs": [
    {
     "data": {
      "text/plain": [
       "False"
      ]
     },
     "execution_count": 141,
     "metadata": {},
     "output_type": "execute_result"
    }
   ],
   "source": [
    "#converting to opposites\n",
    "not True"
   ]
  },
  {
   "cell_type": "code",
   "execution_count": 142,
   "id": "6ea79c5e",
   "metadata": {},
   "outputs": [
    {
     "data": {
      "text/plain": [
       "True"
      ]
     },
     "execution_count": 142,
     "metadata": {},
     "output_type": "execute_result"
    }
   ],
   "source": [
    "not False"
   ]
  },
  {
   "cell_type": "markdown",
   "id": "cf9df67f",
   "metadata": {},
   "source": [
    "## Membership Operators"
   ]
  },
  {
   "cell_type": "code",
   "execution_count": 143,
   "id": "2e7d2a1d",
   "metadata": {},
   "outputs": [
    {
     "data": {
      "text/plain": [
       "[1, 2, 3, 4, 5]"
      ]
     },
     "execution_count": 143,
     "metadata": {},
     "output_type": "execute_result"
    }
   ],
   "source": [
    "list_1"
   ]
  },
  {
   "cell_type": "code",
   "execution_count": 144,
   "id": "90adddf2",
   "metadata": {},
   "outputs": [
    {
     "data": {
      "text/plain": [
       "True"
      ]
     },
     "execution_count": 144,
     "metadata": {},
     "output_type": "execute_result"
    }
   ],
   "source": [
    "1 in list_1"
   ]
  },
  {
   "cell_type": "code",
   "execution_count": 145,
   "id": "7d821c0d",
   "metadata": {},
   "outputs": [
    {
     "data": {
      "text/plain": [
       "False"
      ]
     },
     "execution_count": 145,
     "metadata": {},
     "output_type": "execute_result"
    }
   ],
   "source": [
    "1 not in list_1"
   ]
  },
  {
   "cell_type": "code",
   "execution_count": 147,
   "id": "7ea26dcd",
   "metadata": {},
   "outputs": [
    {
     "data": {
      "text/plain": [
       "True"
      ]
     },
     "execution_count": 147,
     "metadata": {},
     "output_type": "execute_result"
    }
   ],
   "source": [
    "'dog' in 'I have dogs'"
   ]
  },
  {
   "cell_type": "code",
   "execution_count": 150,
   "id": "4a89b673",
   "metadata": {},
   "outputs": [
    {
     "data": {
      "text/plain": [
       "True"
      ]
     },
     "execution_count": 150,
     "metadata": {},
     "output_type": "execute_result"
    }
   ],
   "source": [
    "'dog' in 'dogma'"
   ]
  },
  {
   "cell_type": "markdown",
   "id": "732d165e",
   "metadata": {
    "jp-MarkdownHeadingCollapsed": true
   },
   "source": [
    "# Conditional Statements"
   ]
  },
  {
   "cell_type": "markdown",
   "id": "d8f8d4af",
   "metadata": {},
   "source": [
    "## If/Else statements"
   ]
  },
  {
   "cell_type": "code",
   "execution_count": 154,
   "id": "450faf0d",
   "metadata": {},
   "outputs": [
    {
     "name": "stdout",
     "output_type": "stream",
     "text": [
      "a is positive!\n"
     ]
    }
   ],
   "source": [
    "a = 1\n",
    "if a > 0:\n",
    "    print('a is positive!')"
   ]
  },
  {
   "cell_type": "code",
   "execution_count": 155,
   "id": "7856ae3c",
   "metadata": {},
   "outputs": [
    {
     "name": "stdout",
     "output_type": "stream",
     "text": [
      "a is negative!\n"
     ]
    }
   ],
   "source": [
    "a = -1\n",
    "if a > 0:\n",
    "    print('a is positive!')\n",
    "else:\n",
    "    print('a is negative!')"
   ]
  },
  {
   "cell_type": "code",
   "execution_count": 158,
   "id": "8cc28b3d",
   "metadata": {},
   "outputs": [
    {
     "name": "stdout",
     "output_type": "stream",
     "text": [
      "a is zero\n"
     ]
    }
   ],
   "source": [
    "a = 0\n",
    "if a > 0:\n",
    "    print('a is positive!')\n",
    "elif a == 0:\n",
    "    print('a is zero!')\n",
    "else:\n",
    "    print('a is negative!')"
   ]
  },
  {
   "cell_type": "code",
   "execution_count": 159,
   "id": "4f0d8f9d",
   "metadata": {},
   "outputs": [
    {
     "name": "stdout",
     "output_type": "stream",
     "text": [
      "a is zero!\n",
      "b is positive\n"
     ]
    }
   ],
   "source": [
    "a = 0\n",
    "b = 3\n",
    "if a > 0:\n",
    "    print('a is positive!')\n",
    "elif a == 0:\n",
    "    print('a is zero!')\n",
    "    if b > 0:\n",
    "        print('b is positive')\n",
    "else:\n",
    "    print('a is negative!')"
   ]
  },
  {
   "cell_type": "code",
   "execution_count": 161,
   "id": "7b359f25",
   "metadata": {},
   "outputs": [
    {
     "name": "stdout",
     "output_type": "stream",
     "text": [
      "a is positive!\n",
      "we have a and b\n"
     ]
    }
   ],
   "source": [
    "a = 1\n",
    "b = 3\n",
    "if a > 0:\n",
    "    print('a is positive!')\n",
    "elif a == 0:\n",
    "    print('a is zero!')\n",
    "    if b > 0:\n",
    "        print('b is positive')\n",
    "else:\n",
    "    print('a is negative!')\n",
    "print('we have a and b')"
   ]
  },
  {
   "cell_type": "markdown",
   "id": "1a2d7f70",
   "metadata": {},
   "source": [
    "## For Loop"
   ]
  },
  {
   "cell_type": "code",
   "execution_count": 208,
   "id": "d174b05d",
   "metadata": {},
   "outputs": [
    {
     "name": "stdout",
     "output_type": "stream",
     "text": [
      "sheepadoodle\n",
      "cockapoo\n"
     ]
    }
   ],
   "source": [
    "for i in dict_1:\n",
    "    print(i)"
   ]
  },
  {
   "cell_type": "code",
   "execution_count": 209,
   "id": "0ce54835",
   "metadata": {},
   "outputs": [
    {
     "name": "stdout",
     "output_type": "stream",
     "text": [
      "Louie\n",
      "Zoe\n"
     ]
    }
   ],
   "source": [
    "for i in dict_1:\n",
    "    print(dict_1[i])"
   ]
  },
  {
   "cell_type": "code",
   "execution_count": 14,
   "id": "f97fafd4",
   "metadata": {},
   "outputs": [],
   "source": [
    "list_1 = [1, 2, 3, 4, 5]"
   ]
  },
  {
   "cell_type": "code",
   "execution_count": 15,
   "id": "58661eae",
   "metadata": {},
   "outputs": [
    {
     "name": "stdout",
     "output_type": "stream",
     "text": [
      "1\n",
      "2\n",
      "3\n",
      "4\n",
      "5\n"
     ]
    }
   ],
   "source": [
    "for i in list_1:\n",
    "    print(i)"
   ]
  },
  {
   "cell_type": "code",
   "execution_count": 20,
   "id": "4d019752-f93e-41bf-95a4-c6def59f3246",
   "metadata": {},
   "outputs": [
    {
     "data": {
      "text/plain": [
       "[5, 4, 3, 2, 1]"
      ]
     },
     "execution_count": 20,
     "metadata": {},
     "output_type": "execute_result"
    }
   ],
   "source": [
    "new_list = []\n",
    "for i in list_1:\n",
    "    new_list.insert(0,i)\n",
    "    print(new_list)"
   ]
  },
  {
   "cell_type": "markdown",
   "id": "28e9cca8",
   "metadata": {},
   "source": [
    "## While loops"
   ]
  },
  {
   "cell_type": "code",
   "execution_count": 166,
   "id": "fdf353d7",
   "metadata": {},
   "outputs": [
    {
     "name": "stdout",
     "output_type": "stream",
     "text": [
      "4\n",
      "3\n",
      "2\n",
      "1\n"
     ]
    }
   ],
   "source": [
    "a = 4\n",
    "while a > 0:\n",
    "    print(a)\n",
    "    a = a - 1"
   ]
  }
 ],
 "metadata": {
  "kernelspec": {
   "display_name": "Python 3 (ipykernel)",
   "language": "python",
   "name": "python3"
  },
  "language_info": {
   "codemirror_mode": {
    "name": "ipython",
    "version": 3
   },
   "file_extension": ".py",
   "mimetype": "text/x-python",
   "name": "python",
   "nbconvert_exporter": "python",
   "pygments_lexer": "ipython3",
   "version": "3.11.9"
  }
 },
 "nbformat": 4,
 "nbformat_minor": 5
}

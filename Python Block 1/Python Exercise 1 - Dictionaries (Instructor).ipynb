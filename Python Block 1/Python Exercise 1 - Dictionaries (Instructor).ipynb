{
 "cells": [
  {
   "cell_type": "markdown",
   "metadata": {
    "jp-MarkdownHeadingCollapsed": true
   },
   "source": [
    "# For the following questions, use the CEOs and More_CEOs dictionaries as defined below."
   ]
  },
  {
   "cell_type": "code",
   "execution_count": 1,
   "metadata": {},
   "outputs": [],
   "source": [
    "CEOs = {'Tim Cook': 'Apple', 'Sundar Pichai': 'Google', 'Satya Nadella': 'Microsoft', 'Bob Chapek': 'Disney'}\n",
    "More_CEOs = {'Elon Musk': 'Tesla', 'Mark Zuckerberg': 'Facebook'}"
   ]
  },
  {
   "cell_type": "markdown",
   "metadata": {},
   "source": [
    "## 1. We want a dictionary of all the CEOs put together. Update the CEOs dictionary to include More_CEOs."
   ]
  },
  {
   "cell_type": "code",
   "execution_count": 2,
   "metadata": {},
   "outputs": [
    {
     "data": {
      "text/plain": [
       "{'Tim Cook': 'Apple',\n",
       " 'Sundar Pichai': 'Google',\n",
       " 'Satya Nadella': 'Microsoft',\n",
       " 'Bob Chapek': 'Disney',\n",
       " 'Elon Musk': 'Tesla',\n",
       " 'Mark Zuckerberg': 'Facebook'}"
      ]
     },
     "execution_count": 2,
     "metadata": {},
     "output_type": "execute_result"
    }
   ],
   "source": [
    "#possible simple solution\n",
    "CEOs.update({'Elon Musk': 'Tesla', 'Mark Zuckerberg': 'Facebook'})\n",
    "CEOs"
   ]
  },
  {
   "cell_type": "code",
   "execution_count": null,
   "metadata": {},
   "outputs": [],
   "source": [
    "#better solution, just use variable name\n",
    "CEOs.update(More_CEOs)\n",
    "CEOs"
   ]
  },
  {
   "cell_type": "markdown",
   "metadata": {},
   "source": [
    "## 2. We want to have a dictionary with companies as the key. Using the updated CEOs dictionary, transform the dictionary to define CEOs by companies (i.e., {'Apple': 'Tim Cook', 'Google': 'Sundar Pichai',...})."
   ]
  },
  {
   "cell_type": "code",
   "execution_count": 3,
   "metadata": {},
   "outputs": [
    {
     "data": {
      "text/plain": [
       "'Apple'"
      ]
     },
     "execution_count": 3,
     "metadata": {},
     "output_type": "execute_result"
    }
   ],
   "source": [
    "#First, how do we call for the company? Try calling for Apple\n",
    "CEOs['Tim Cook']"
   ]
  },
  {
   "cell_type": "code",
   "execution_count": 4,
   "metadata": {},
   "outputs": [
    {
     "data": {
      "text/plain": [
       "{'Apple': 'Tim Cook', 'Google': 'Sundar Pichai'}"
      ]
     },
     "execution_count": 4,
     "metadata": {},
     "output_type": "execute_result"
    }
   ],
   "source": [
    "#How would we define this new dictionary?\n",
    "test = {CEOs['Tim Cook']: 'Tim Cook'}\n",
    "test.update({CEOs['Sundar Pichai']: 'Sundar Pichai'})\n",
    "test"
   ]
  },
  {
   "cell_type": "code",
   "execution_count": 5,
   "metadata": {},
   "outputs": [
    {
     "name": "stdout",
     "output_type": "stream",
     "text": [
      "Tim Cook\n",
      "Sundar Pichai\n",
      "Satya Nadella\n",
      "Bob Chapek\n",
      "Elon Musk\n",
      "Mark Zuckerberg\n"
     ]
    }
   ],
   "source": [
    "#How do we call for each entry in our dictionary?\n",
    "for i in CEOs:\n",
    "    print(i)"
   ]
  },
  {
   "cell_type": "code",
   "execution_count": 6,
   "metadata": {},
   "outputs": [
    {
     "data": {
      "text/plain": [
       "{'Apple': 'Tim Cook',\n",
       " 'Google': 'Sundar Pichai',\n",
       " 'Microsoft': 'Satya Nadella',\n",
       " 'Disney': 'Bob Chapek',\n",
       " 'Tesla': 'Elon Musk',\n",
       " 'Facebook': 'Mark Zuckerberg'}"
      ]
     },
     "execution_count": 6,
     "metadata": {},
     "output_type": "execute_result"
    }
   ],
   "source": [
    "#create catcher for dictionary\n",
    "CEOs_by_Company = {}\n",
    "\n",
    "#iterate through updating each entry\n",
    "for i in CEOs:\n",
    "    CEOs_by_Company[CEOs[i]] = i\n",
    "CEOs_by_Company  "
   ]
  },
  {
   "cell_type": "code",
   "execution_count": 5,
   "metadata": {},
   "outputs": [
    {
     "data": {
      "text/plain": [
       "{'Apple': 'Tim Cook',\n",
       " 'Google': 'Sundar Pichai',\n",
       " 'Microsoft': 'Satya Nadella',\n",
       " 'Disney': 'Bob Chapek',\n",
       " 'Tesla': 'Elon Musk',\n",
       " 'Facebook': 'Mark Zuckerberg'}"
      ]
     },
     "execution_count": 5,
     "metadata": {},
     "output_type": "execute_result"
    }
   ],
   "source": [
    "#create catcher for dictionary\n",
    "CEOs_by_Company = {}\n",
    "\n",
    "#iterate through updating each entry\n",
    "for i in CEOs:\n",
    "    CEOs_by_Company.update({CEOs[i]: i})\n",
    "CEOs_by_Company    "
   ]
  },
  {
   "cell_type": "code",
   "execution_count": 5,
   "metadata": {},
   "outputs": [
    {
     "data": {
      "text/plain": [
       "{'Apple': 'Tim Cook',\n",
       " 'Google': 'Sundar Pichai',\n",
       " 'Microsoft': 'Satya Nadella',\n",
       " 'Disney': 'Bob Chapek',\n",
       " 'Tesla': 'Elon Musk',\n",
       " 'Facebook': 'Mark Zuckerberg'}"
      ]
     },
     "execution_count": 5,
     "metadata": {},
     "output_type": "execute_result"
    }
   ],
   "source": [
    "#advanced solution using what we call \"comprehensions\", an advanced methodology that is unique to Python\n",
    "CEOs_by_Company = {CEOs[key]: key for key in CEOs}\n",
    "CEOs_by_Company"
   ]
  },
  {
   "cell_type": "markdown",
   "metadata": {},
   "source": [
    "## 3. We want only tech companies included in our new dictionary. Delete 'Disney' from the new dictionary."
   ]
  },
  {
   "cell_type": "code",
   "execution_count": 10,
   "metadata": {},
   "outputs": [
    {
     "data": {
      "text/plain": [
       "{'Apple': 'Tim Cook',\n",
       " 'Google': 'Sundar Pichai',\n",
       " 'Microsoft': 'Satya Nadella',\n",
       " 'Tesla': 'Elon Musk',\n",
       " 'Facebook': 'Mark Zuckerberg'}"
      ]
     },
     "execution_count": 10,
     "metadata": {},
     "output_type": "execute_result"
    }
   ],
   "source": [
    "del CEOs_by_Company['Disney']\n",
    "CEOs_by_Company"
   ]
  },
  {
   "cell_type": "code",
   "execution_count": null,
   "metadata": {},
   "outputs": [],
   "source": []
  }
 ],
 "metadata": {
  "kernelspec": {
   "display_name": "Python 3 (ipykernel)",
   "language": "python",
   "name": "python3"
  },
  "language_info": {
   "codemirror_mode": {
    "name": "ipython",
    "version": 3
   },
   "file_extension": ".py",
   "mimetype": "text/x-python",
   "name": "python",
   "nbconvert_exporter": "python",
   "pygments_lexer": "ipython3",
   "version": "3.11.9"
  }
 },
 "nbformat": 4,
 "nbformat_minor": 4
}

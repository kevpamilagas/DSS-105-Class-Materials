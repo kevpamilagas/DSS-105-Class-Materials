{
 "cells": [
  {
   "cell_type": "markdown",
   "id": "b212aca9",
   "metadata": {},
   "source": [
    "# Numerical Types"
   ]
  },
  {
   "cell_type": "code",
   "execution_count": null,
   "id": "da73e8cb-2f58-4d24-b824-605f7ed74250",
   "metadata": {},
   "outputs": [],
   "source": []
  },
  {
   "cell_type": "markdown",
   "id": "d535856d",
   "metadata": {},
   "source": [
    "# Data Structures"
   ]
  },
  {
   "cell_type": "code",
   "execution_count": null,
   "id": "87c0013c-b5d8-4a83-b029-afe0a360597c",
   "metadata": {},
   "outputs": [],
   "source": []
  },
  {
   "cell_type": "markdown",
   "id": "7359a1b5",
   "metadata": {},
   "source": [
    "# Modifying Lists"
   ]
  },
  {
   "cell_type": "code",
   "execution_count": null,
   "id": "9363e133-6430-4e7a-a62b-09eaced56b93",
   "metadata": {},
   "outputs": [],
   "source": []
  },
  {
   "cell_type": "markdown",
   "id": "38600dfd",
   "metadata": {},
   "source": [
    "# Lists on lists on lists"
   ]
  },
  {
   "cell_type": "code",
   "execution_count": null,
   "id": "8496bf2e-9f01-429a-a5a6-db3b730f62a0",
   "metadata": {},
   "outputs": [],
   "source": []
  },
  {
   "cell_type": "markdown",
   "id": "be877608",
   "metadata": {},
   "source": [
    "# Sets"
   ]
  },
  {
   "cell_type": "code",
   "execution_count": null,
   "id": "217a8706-e21b-40a6-a6f0-90d03335a62f",
   "metadata": {},
   "outputs": [],
   "source": []
  },
  {
   "cell_type": "markdown",
   "id": "c826133a",
   "metadata": {},
   "source": [
    "# Dictionaries"
   ]
  },
  {
   "cell_type": "code",
   "execution_count": null,
   "id": "aee0c1dd-0f3e-4035-9783-9cb2803d15c2",
   "metadata": {},
   "outputs": [],
   "source": []
  },
  {
   "cell_type": "markdown",
   "id": "234ce2de-37e8-4a7b-bc38-25fa0bd80a73",
   "metadata": {},
   "source": [
    "# Mass Operators"
   ]
  },
  {
   "cell_type": "code",
   "execution_count": null,
   "id": "2e73bb62-1484-4704-8e0e-5a8b44755241",
   "metadata": {},
   "outputs": [],
   "source": []
  }
 ],
 "metadata": {
  "kernelspec": {
   "display_name": "Python 3 (ipykernel)",
   "language": "python",
   "name": "python3"
  },
  "language_info": {
   "codemirror_mode": {
    "name": "ipython",
    "version": 3
   },
   "file_extension": ".py",
   "mimetype": "text/x-python",
   "name": "python",
   "nbconvert_exporter": "python",
   "pygments_lexer": "ipython3",
   "version": "3.11.7"
  }
 },
 "nbformat": 4,
 "nbformat_minor": 5
}

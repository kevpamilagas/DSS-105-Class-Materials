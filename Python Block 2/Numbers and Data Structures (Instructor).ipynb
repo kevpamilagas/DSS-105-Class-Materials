{
 "cells": [
  {
   "cell_type": "markdown",
   "id": "b212aca9",
   "metadata": {
    "jp-MarkdownHeadingCollapsed": true
   },
   "source": [
    "# Numerical Types"
   ]
  },
  {
   "cell_type": "code",
   "execution_count": null,
   "id": "3c998d86-6f98-4667-8707-6c5a6e51a0b5",
   "metadata": {},
   "outputs": [],
   "source": []
  },
  {
   "cell_type": "code",
   "execution_count": 1,
   "id": "e7833ff3",
   "metadata": {},
   "outputs": [],
   "source": [
    "a, b, c, d, e = 3, 2.3456, 2j, -3, 10"
   ]
  },
  {
   "cell_type": "code",
   "execution_count": 2,
   "id": "78c20b5c",
   "metadata": {},
   "outputs": [
    {
     "name": "stdout",
     "output_type": "stream",
     "text": [
      "6\n"
     ]
    },
    {
     "data": {
      "text/plain": [
       "int"
      ]
     },
     "execution_count": 2,
     "metadata": {},
     "output_type": "execute_result"
    }
   ],
   "source": [
    "print(a - d)\n",
    "type(a - d)"
   ]
  },
  {
   "cell_type": "code",
   "execution_count": 3,
   "id": "3ccafd54",
   "metadata": {},
   "outputs": [
    {
     "name": "stdout",
     "output_type": "stream",
     "text": [
      "5.3456\n"
     ]
    },
    {
     "data": {
      "text/plain": [
       "float"
      ]
     },
     "execution_count": 3,
     "metadata": {},
     "output_type": "execute_result"
    }
   ],
   "source": [
    "print(a + b)\n",
    "type(a + b)"
   ]
  },
  {
   "cell_type": "code",
   "execution_count": 4,
   "id": "1fcda9a1",
   "metadata": {},
   "outputs": [
    {
     "name": "stdout",
     "output_type": "stream",
     "text": [
      "(3-2j)\n"
     ]
    },
    {
     "data": {
      "text/plain": [
       "complex"
      ]
     },
     "execution_count": 4,
     "metadata": {},
     "output_type": "execute_result"
    }
   ],
   "source": [
    "print(a - c)\n",
    "type(a - c)"
   ]
  },
  {
   "cell_type": "code",
   "execution_count": 5,
   "id": "164b2429",
   "metadata": {},
   "outputs": [
    {
     "name": "stdout",
     "output_type": "stream",
     "text": [
      "2.0\n"
     ]
    },
    {
     "data": {
      "text/plain": [
       "float"
      ]
     },
     "execution_count": 5,
     "metadata": {},
     "output_type": "execute_result"
    }
   ],
   "source": [
    "print(round(b, 0))\n",
    "type(round(b, 0))"
   ]
  },
  {
   "cell_type": "code",
   "execution_count": 6,
   "id": "f184a332",
   "metadata": {},
   "outputs": [
    {
     "data": {
      "text/plain": [
       "9"
      ]
     },
     "execution_count": 6,
     "metadata": {},
     "output_type": "execute_result"
    }
   ],
   "source": [
    "3 ** 2"
   ]
  },
  {
   "cell_type": "code",
   "execution_count": 7,
   "id": "d433557a",
   "metadata": {},
   "outputs": [
    {
     "data": {
      "text/plain": [
       "True"
      ]
     },
     "execution_count": 7,
     "metadata": {},
     "output_type": "execute_result"
    }
   ],
   "source": [
    "3 ** 2 == pow(3, 2)"
   ]
  },
  {
   "cell_type": "code",
   "execution_count": 8,
   "id": "fdc26a0f",
   "metadata": {},
   "outputs": [
    {
     "ename": "NameError",
     "evalue": "name 'sqrt' is not defined",
     "output_type": "error",
     "traceback": [
      "\u001b[1;31m---------------------------------------------------------------------------\u001b[0m",
      "\u001b[1;31mNameError\u001b[0m                                 Traceback (most recent call last)",
      "Cell \u001b[1;32mIn[8], line 1\u001b[0m\n\u001b[1;32m----> 1\u001b[0m sqrt(\u001b[38;5;241m4\u001b[39m)\n",
      "\u001b[1;31mNameError\u001b[0m: name 'sqrt' is not defined"
     ]
    }
   ],
   "source": [
    "#we do have limitations as to what python can do\n",
    "sqrt(4)"
   ]
  },
  {
   "cell_type": "code",
   "execution_count": 9,
   "id": "2ba4549b",
   "metadata": {},
   "outputs": [],
   "source": [
    "#we sometimes need to import a \"library\" that allows us more features and tools\n",
    "#(always a float; does not allow complex results)\n",
    "import math"
   ]
  },
  {
   "cell_type": "code",
   "execution_count": null,
   "id": "80a45ca0-5458-4f61-86fd-ab054dc064c0",
   "metadata": {},
   "outputs": [],
   "source": [
    "!pip list"
   ]
  },
  {
   "cell_type": "code",
   "execution_count": 10,
   "id": "894a104b",
   "metadata": {},
   "outputs": [
    {
     "data": {
      "text/plain": [
       "2.0"
      ]
     },
     "execution_count": 10,
     "metadata": {},
     "output_type": "execute_result"
    }
   ],
   "source": [
    "math.sqrt(4)"
   ]
  },
  {
   "cell_type": "code",
   "execution_count": 11,
   "id": "24ae6c99",
   "metadata": {},
   "outputs": [
    {
     "data": {
      "text/plain": [
       "2.718281828459045"
      ]
     },
     "execution_count": 11,
     "metadata": {},
     "output_type": "execute_result"
    }
   ],
   "source": [
    "#mathematical constant used to represnt growth or decay smoothly; occurs frequently in mathematics\n",
    "math.exp(1)"
   ]
  },
  {
   "cell_type": "code",
   "execution_count": 12,
   "id": "40368476",
   "metadata": {},
   "outputs": [
    {
     "data": {
      "text/plain": [
       "3.141592653589793"
      ]
     },
     "execution_count": 12,
     "metadata": {},
     "output_type": "execute_result"
    }
   ],
   "source": [
    "math.pi"
   ]
  },
  {
   "cell_type": "code",
   "execution_count": 13,
   "id": "de6f1764",
   "metadata": {},
   "outputs": [
    {
     "data": {
      "text/plain": [
       "0.0"
      ]
     },
     "execution_count": 13,
     "metadata": {},
     "output_type": "execute_result"
    }
   ],
   "source": [
    "math.sin(0)"
   ]
  },
  {
   "cell_type": "code",
   "execution_count": 14,
   "id": "b1caa2ee",
   "metadata": {},
   "outputs": [
    {
     "data": {
      "text/plain": [
       "1.2246467991473532e-16"
      ]
     },
     "execution_count": 14,
     "metadata": {},
     "output_type": "execute_result"
    }
   ],
   "source": [
    "math.sin(math.pi) #anyone know why this isn't 0?"
   ]
  },
  {
   "cell_type": "markdown",
   "id": "d535856d",
   "metadata": {
    "jp-MarkdownHeadingCollapsed": true
   },
   "source": [
    "# Data Structures"
   ]
  },
  {
   "cell_type": "code",
   "execution_count": 14,
   "id": "71d7931e",
   "metadata": {},
   "outputs": [
    {
     "name": "stdout",
     "output_type": "stream",
     "text": [
      "[0, 1, 2, 3, 4]\n"
     ]
    }
   ],
   "source": [
    "list_1 = [0, 1, 2, 3, 4]\n",
    "print(list_1)"
   ]
  },
  {
   "cell_type": "code",
   "execution_count": 15,
   "id": "772cde7b",
   "metadata": {},
   "outputs": [
    {
     "name": "stdout",
     "output_type": "stream",
     "text": [
      "range(0, 5)\n"
     ]
    }
   ],
   "source": [
    "range_1 = range(5)\n",
    "print(range_1)"
   ]
  },
  {
   "cell_type": "code",
   "execution_count": 16,
   "id": "7ed12353",
   "metadata": {},
   "outputs": [
    {
     "name": "stdout",
     "output_type": "stream",
     "text": [
      "0\n",
      "1\n",
      "2\n",
      "3\n",
      "4\n"
     ]
    }
   ],
   "source": [
    "for i in list_1:\n",
    "    print(i)"
   ]
  },
  {
   "cell_type": "code",
   "execution_count": 17,
   "id": "3560403d",
   "metadata": {},
   "outputs": [
    {
     "name": "stdout",
     "output_type": "stream",
     "text": [
      "0\n",
      "1\n",
      "2\n",
      "3\n",
      "4\n"
     ]
    }
   ],
   "source": [
    "for i in range_1:\n",
    "    print(i)"
   ]
  },
  {
   "cell_type": "code",
   "execution_count": 18,
   "id": "519836b5-5176-491c-a13e-165f135424aa",
   "metadata": {},
   "outputs": [
    {
     "data": {
      "text/plain": [
       "list"
      ]
     },
     "execution_count": 18,
     "metadata": {},
     "output_type": "execute_result"
    }
   ],
   "source": [
    "type(list_1)"
   ]
  },
  {
   "cell_type": "code",
   "execution_count": 19,
   "id": "d663f864-71e7-4d6a-b89d-78e1486b0d01",
   "metadata": {},
   "outputs": [
    {
     "data": {
      "text/plain": [
       "range"
      ]
     },
     "execution_count": 19,
     "metadata": {},
     "output_type": "execute_result"
    }
   ],
   "source": [
    "#notice that although they have the same output, they are not the same object types\n",
    "type(range_1)"
   ]
  },
  {
   "cell_type": "code",
   "execution_count": 91,
   "id": "45005f41-b804-4634-a3a9-1d8904d7a1cb",
   "metadata": {},
   "outputs": [
    {
     "ename": "AttributeError",
     "evalue": "'range' object has no attribute 'append'",
     "output_type": "error",
     "traceback": [
      "\u001b[1;31m---------------------------------------------------------------------------\u001b[0m",
      "\u001b[1;31mAttributeError\u001b[0m                            Traceback (most recent call last)",
      "Cell \u001b[1;32mIn[91], line 1\u001b[0m\n\u001b[1;32m----> 1\u001b[0m list_2\u001b[38;5;241m.\u001b[39mappend(\u001b[38;5;241m5\u001b[39m)\n",
      "\u001b[1;31mAttributeError\u001b[0m: 'range' object has no attribute 'append'"
     ]
    }
   ],
   "source": [
    "#you cannot append a \"range\" object\n",
    "range_1.append(5)"
   ]
  },
  {
   "cell_type": "code",
   "execution_count": 99,
   "id": "58b92c97-0ef2-41e8-aa63-d1a5bbd0d46d",
   "metadata": {},
   "outputs": [
    {
     "data": {
      "text/plain": [
       "list"
      ]
     },
     "execution_count": 99,
     "metadata": {},
     "output_type": "execute_result"
    }
   ],
   "source": [
    "#you can convert a range using the list() function\n",
    "list_2 = list(range(5))\n",
    "type(list_2)"
   ]
  },
  {
   "cell_type": "code",
   "execution_count": 98,
   "id": "9c536ea2",
   "metadata": {},
   "outputs": [
    {
     "name": "stdout",
     "output_type": "stream",
     "text": [
      "2\n",
      "3\n",
      "4\n",
      "5\n",
      "6\n",
      "7\n",
      "8\n",
      "9\n",
      "10\n",
      "11\n",
      "12\n",
      "13\n",
      "14\n",
      "15\n",
      "16\n",
      "17\n",
      "18\n",
      "19\n"
     ]
    }
   ],
   "source": [
    "for i in range(2,20):\n",
    "    print(i)"
   ]
  },
  {
   "cell_type": "code",
   "execution_count": 100,
   "id": "f7918469",
   "metadata": {},
   "outputs": [
    {
     "name": "stdout",
     "output_type": "stream",
     "text": [
      "2\n",
      "4\n",
      "6\n",
      "8\n",
      "10\n",
      "12\n",
      "14\n",
      "16\n",
      "18\n"
     ]
    }
   ],
   "source": [
    "#note that this follows the format (start,end,step)\n",
    "#start is inclusive\n",
    "#end is exclusive\n",
    "for i in range(2,20,2):\n",
    "    print(i)"
   ]
  },
  {
   "cell_type": "code",
   "execution_count": 101,
   "id": "04178168",
   "metadata": {},
   "outputs": [
    {
     "name": "stdout",
     "output_type": "stream",
     "text": [
      "[2, 4, 6, 8, 10, 12, 14, 16, 18]\n"
     ]
    }
   ],
   "source": [
    "list_3 = list(range(2,20,2))\n",
    "print(list_3)"
   ]
  },
  {
   "cell_type": "code",
   "execution_count": 102,
   "id": "5aa8946a",
   "metadata": {},
   "outputs": [
    {
     "data": {
      "text/plain": [
       "8"
      ]
     },
     "execution_count": 102,
     "metadata": {},
     "output_type": "execute_result"
    }
   ],
   "source": [
    "#ask how we call for the value of 6 in a list\n",
    "#make the mistake you wanted 6 but ended up with 8, why?\n",
    "list_3[3]"
   ]
  },
  {
   "cell_type": "code",
   "execution_count": 103,
   "id": "59f7703d-a2ac-42e1-b3a5-5882e0878366",
   "metadata": {},
   "outputs": [
    {
     "data": {
      "text/plain": [
       "6"
      ]
     },
     "execution_count": 103,
     "metadata": {},
     "output_type": "execute_result"
    }
   ],
   "source": [
    "#python positions start on 0, so we need position \"2\"\n",
    "list_3[2]"
   ]
  },
  {
   "cell_type": "code",
   "execution_count": 104,
   "id": "5e5331cb",
   "metadata": {},
   "outputs": [
    {
     "data": {
      "text/plain": [
       "[8, 10, 12, 14, 16, 18]"
      ]
     },
     "execution_count": 104,
     "metadata": {},
     "output_type": "execute_result"
    }
   ],
   "source": [
    "list_3[3:]"
   ]
  },
  {
   "cell_type": "code",
   "execution_count": 105,
   "id": "3715f99b",
   "metadata": {},
   "outputs": [
    {
     "data": {
      "text/plain": [
       "[2, 4, 6, 8, 10, 12]"
      ]
     },
     "execution_count": 105,
     "metadata": {},
     "output_type": "execute_result"
    }
   ],
   "source": [
    "list_3[0:6]"
   ]
  },
  {
   "cell_type": "code",
   "execution_count": 83,
   "id": "e00cbb67",
   "metadata": {},
   "outputs": [
    {
     "data": {
      "text/plain": [
       "[2, 6, 10]"
      ]
     },
     "execution_count": 83,
     "metadata": {},
     "output_type": "execute_result"
    }
   ],
   "source": [
    "#format takes [start:end:step] similar to range\n",
    "#start is inclusive\n",
    "#end is exclusive\n",
    "list_3[0:6:2]"
   ]
  },
  {
   "cell_type": "code",
   "execution_count": 106,
   "id": "f6161885",
   "metadata": {},
   "outputs": [
    {
     "data": {
      "text/plain": [
       "[2, 6, 10, 14, 18]"
      ]
     },
     "execution_count": 106,
     "metadata": {},
     "output_type": "execute_result"
    }
   ],
   "source": [
    "#default values if none are specified are (0, last position, 1)\n",
    "list_3[::2]"
   ]
  },
  {
   "cell_type": "code",
   "execution_count": 107,
   "id": "239983b2",
   "metadata": {},
   "outputs": [
    {
     "data": {
      "text/plain": [
       "[6, 8, 10, 12, 14, 16, 18]"
      ]
     },
     "execution_count": 107,
     "metadata": {},
     "output_type": "execute_result"
    }
   ],
   "source": [
    "list_3[2::]"
   ]
  },
  {
   "cell_type": "code",
   "execution_count": 108,
   "id": "865aa8d0",
   "metadata": {},
   "outputs": [
    {
     "data": {
      "text/plain": [
       "[18, 12, 6]"
      ]
     },
     "execution_count": 108,
     "metadata": {},
     "output_type": "execute_result"
    }
   ],
   "source": [
    "#a negative step will count backwards\n",
    "list_3[::-3]"
   ]
  },
  {
   "cell_type": "code",
   "execution_count": 109,
   "id": "183367a9",
   "metadata": {},
   "outputs": [
    {
     "data": {
      "text/plain": [
       "[14, 16, 18]"
      ]
     },
     "execution_count": 109,
     "metadata": {},
     "output_type": "execute_result"
    }
   ],
   "source": [
    "#a negative start will \"count\" backwards to start (inclusive)\n",
    "list_3[-3::]"
   ]
  },
  {
   "cell_type": "code",
   "execution_count": 113,
   "id": "7166b6c4",
   "metadata": {},
   "outputs": [
    {
     "data": {
      "text/plain": [
       "[14, 16]"
      ]
     },
     "execution_count": 113,
     "metadata": {},
     "output_type": "execute_result"
    }
   ],
   "source": [
    "#a negative end will \"count\" backwards to end (exclusive)\n",
    "list_3[-3:-1:]"
   ]
  },
  {
   "cell_type": "markdown",
   "id": "7359a1b5",
   "metadata": {
    "jp-MarkdownHeadingCollapsed": true
   },
   "source": [
    "# Modifying Lists"
   ]
  },
  {
   "cell_type": "code",
   "execution_count": 11,
   "id": "3095255f",
   "metadata": {},
   "outputs": [],
   "source": [
    "list_1 = [0,1,2,3,4]"
   ]
  },
  {
   "cell_type": "code",
   "execution_count": 12,
   "id": "fa9af5a7",
   "metadata": {},
   "outputs": [
    {
     "data": {
      "text/plain": [
       "[0, 1, 2, 3, 4, 5]"
      ]
     },
     "execution_count": 12,
     "metadata": {},
     "output_type": "execute_result"
    }
   ],
   "source": [
    "list_1.append(5)\n",
    "list_1"
   ]
  },
  {
   "cell_type": "code",
   "execution_count": 13,
   "id": "e7b2c957",
   "metadata": {},
   "outputs": [
    {
     "data": {
      "text/plain": [
       "[0, 1, 2, 3, 4, 5, 5]"
      ]
     },
     "execution_count": 13,
     "metadata": {},
     "output_type": "execute_result"
    }
   ],
   "source": [
    "list_1 = list_1 + [5]\n",
    "list_1"
   ]
  },
  {
   "cell_type": "code",
   "execution_count": 122,
   "id": "1cdc3410",
   "metadata": {},
   "outputs": [
    {
     "data": {
      "text/plain": [
       "[0, 1, 2, 3, 4, 5]"
      ]
     },
     "execution_count": 122,
     "metadata": {},
     "output_type": "execute_result"
    }
   ],
   "source": [
    "list_1.remove(5)\n",
    "list_1"
   ]
  },
  {
   "cell_type": "code",
   "execution_count": 123,
   "id": "bcc2e8bd",
   "metadata": {},
   "outputs": [
    {
     "data": {
      "text/plain": [
       "[0, 1, 2, 3, 4]"
      ]
     },
     "execution_count": 123,
     "metadata": {},
     "output_type": "execute_result"
    }
   ],
   "source": [
    "list_1.remove(5)\n",
    "list_1"
   ]
  },
  {
   "cell_type": "code",
   "execution_count": 124,
   "id": "007dfd8b",
   "metadata": {},
   "outputs": [
    {
     "data": {
      "text/plain": [
       "[0, 1, 2, 'text', 3, 4]"
      ]
     },
     "execution_count": 124,
     "metadata": {},
     "output_type": "execute_result"
    }
   ],
   "source": [
    "list_1.insert(3,'text')\n",
    "list_1"
   ]
  },
  {
   "cell_type": "code",
   "execution_count": 125,
   "id": "c576ff81",
   "metadata": {},
   "outputs": [],
   "source": [
    "list_1.remove('text')"
   ]
  },
  {
   "cell_type": "code",
   "execution_count": 126,
   "id": "7e810e7c",
   "metadata": {},
   "outputs": [
    {
     "data": {
      "text/plain": [
       "4"
      ]
     },
     "execution_count": 126,
     "metadata": {},
     "output_type": "execute_result"
    }
   ],
   "source": [
    "#pop() will remove the \"tail\" entry and return it\n",
    "list_1.pop()"
   ]
  },
  {
   "cell_type": "code",
   "execution_count": 127,
   "id": "ee6bec03",
   "metadata": {},
   "outputs": [
    {
     "data": {
      "text/plain": [
       "[0, 1, 2, 3]"
      ]
     },
     "execution_count": 127,
     "metadata": {},
     "output_type": "execute_result"
    }
   ],
   "source": [
    "list_1"
   ]
  },
  {
   "cell_type": "code",
   "execution_count": 128,
   "id": "7ee678b9",
   "metadata": {},
   "outputs": [
    {
     "name": "stdout",
     "output_type": "stream",
     "text": [
      "3\n",
      "2\n",
      "1\n",
      "0\n"
     ]
    }
   ],
   "source": [
    "while len(list_1):\n",
    "    print(list_1.pop())"
   ]
  },
  {
   "cell_type": "code",
   "execution_count": 129,
   "id": "7a35dc95",
   "metadata": {},
   "outputs": [
    {
     "data": {
      "text/plain": [
       "[]"
      ]
     },
     "execution_count": 129,
     "metadata": {},
     "output_type": "execute_result"
    }
   ],
   "source": [
    "#notice this removes the entries one by one\n",
    "list_1"
   ]
  },
  {
   "cell_type": "code",
   "execution_count": 131,
   "id": "db2bfd59",
   "metadata": {},
   "outputs": [],
   "source": [
    "list_1 = [1,2,3,4]\n",
    "list_3 = list(range(2,20,2))"
   ]
  },
  {
   "cell_type": "code",
   "execution_count": 132,
   "id": "689aace3",
   "metadata": {},
   "outputs": [
    {
     "data": {
      "text/plain": [
       "[2, 4, 6, 8, 10, 12, 14, 16, 18, 1, 2, 3, 4]"
      ]
     },
     "execution_count": 132,
     "metadata": {},
     "output_type": "execute_result"
    }
   ],
   "source": [
    "list_3.extend(list_1)\n",
    "list_3"
   ]
  },
  {
   "cell_type": "code",
   "execution_count": 133,
   "id": "67c2c486",
   "metadata": {},
   "outputs": [
    {
     "data": {
      "text/plain": [
       "2"
      ]
     },
     "execution_count": 133,
     "metadata": {},
     "output_type": "execute_result"
    }
   ],
   "source": [
    "list_3.count(2)"
   ]
  },
  {
   "cell_type": "code",
   "execution_count": 134,
   "id": "04b64c22",
   "metadata": {},
   "outputs": [
    {
     "data": {
      "text/plain": [
       "[1, 2, 2, 3, 4, 4, 6, 8, 10, 12, 14, 16, 18]"
      ]
     },
     "execution_count": 134,
     "metadata": {},
     "output_type": "execute_result"
    }
   ],
   "source": [
    "list_3.sort()\n",
    "list_3"
   ]
  },
  {
   "cell_type": "code",
   "execution_count": 135,
   "id": "1b75bd0b",
   "metadata": {},
   "outputs": [],
   "source": [
    "list_3.sort(reverse=True)\n",
    "#get function for sort"
   ]
  },
  {
   "cell_type": "code",
   "execution_count": 136,
   "id": "8e7d4066-b56c-4370-9e9d-35006103aa67",
   "metadata": {},
   "outputs": [
    {
     "data": {
      "text/plain": [
       "[18, 16, 14, 12, 10, 8, 6, 4, 4, 3, 2, 2, 1]"
      ]
     },
     "execution_count": 136,
     "metadata": {},
     "output_type": "execute_result"
    }
   ],
   "source": [
    "list_3"
   ]
  },
  {
   "cell_type": "markdown",
   "id": "38600dfd",
   "metadata": {
    "jp-MarkdownHeadingCollapsed": true
   },
   "source": [
    "# Lists on lists on lists"
   ]
  },
  {
   "cell_type": "code",
   "execution_count": 137,
   "id": "41baaf1d",
   "metadata": {},
   "outputs": [],
   "source": [
    "list_1 = [[1,2,3],[4,5,6]]"
   ]
  },
  {
   "cell_type": "code",
   "execution_count": 138,
   "id": "d0c11cab",
   "metadata": {},
   "outputs": [
    {
     "data": {
      "text/plain": [
       "[1, 2, 3]"
      ]
     },
     "execution_count": 138,
     "metadata": {},
     "output_type": "execute_result"
    }
   ],
   "source": [
    "list_1[0]"
   ]
  },
  {
   "cell_type": "code",
   "execution_count": 139,
   "id": "bae4cbc6",
   "metadata": {},
   "outputs": [
    {
     "data": {
      "text/plain": [
       "3"
      ]
     },
     "execution_count": 139,
     "metadata": {},
     "output_type": "execute_result"
    }
   ],
   "source": [
    "list_1[0][2]"
   ]
  },
  {
   "cell_type": "code",
   "execution_count": 140,
   "id": "62eaeec5",
   "metadata": {},
   "outputs": [],
   "source": [
    "list_1 = [[[1,2],[3,4]],[[5,6]]]"
   ]
  },
  {
   "cell_type": "code",
   "execution_count": 141,
   "id": "28277db9",
   "metadata": {},
   "outputs": [
    {
     "data": {
      "text/plain": [
       "4"
      ]
     },
     "execution_count": 141,
     "metadata": {},
     "output_type": "execute_result"
    }
   ],
   "source": [
    "list_1[0][1][1]"
   ]
  },
  {
   "cell_type": "markdown",
   "id": "be877608",
   "metadata": {
    "jp-MarkdownHeadingCollapsed": true
   },
   "source": [
    "# Sets"
   ]
  },
  {
   "cell_type": "code",
   "execution_count": 142,
   "id": "df528b80",
   "metadata": {},
   "outputs": [
    {
     "data": {
      "text/plain": [
       "{1, 2, 3, 4}"
      ]
     },
     "execution_count": 142,
     "metadata": {},
     "output_type": "execute_result"
    }
   ],
   "source": [
    "set_1 = {1,2,3,4}\n",
    "set_1"
   ]
  },
  {
   "cell_type": "code",
   "execution_count": 143,
   "id": "5ab2dab4",
   "metadata": {},
   "outputs": [
    {
     "data": {
      "text/plain": [
       "{1, 2, 3, 4}"
      ]
     },
     "execution_count": 143,
     "metadata": {},
     "output_type": "execute_result"
    }
   ],
   "source": [
    "set_1 = set((1,2,3,4))\n",
    "set_1"
   ]
  },
  {
   "cell_type": "code",
   "execution_count": 144,
   "id": "9abb7935",
   "metadata": {},
   "outputs": [
    {
     "ename": "TypeError",
     "evalue": "'set' object is not callable",
     "output_type": "error",
     "traceback": [
      "\u001b[1;31m---------------------------------------------------------------------------\u001b[0m",
      "\u001b[1;31mTypeError\u001b[0m                                 Traceback (most recent call last)",
      "Cell \u001b[1;32mIn[144], line 1\u001b[0m\n\u001b[1;32m----> 1\u001b[0m set_1(\u001b[38;5;241m2\u001b[39m)\n",
      "\u001b[1;31mTypeError\u001b[0m: 'set' object is not callable"
     ]
    }
   ],
   "source": [
    "set_1(2)"
   ]
  },
  {
   "cell_type": "code",
   "execution_count": 145,
   "id": "a37862c8",
   "metadata": {},
   "outputs": [
    {
     "data": {
      "text/plain": [
       "3"
      ]
     },
     "execution_count": 145,
     "metadata": {},
     "output_type": "execute_result"
    }
   ],
   "source": [
    "list(set_1)[2]"
   ]
  },
  {
   "cell_type": "code",
   "execution_count": 146,
   "id": "67012495-09b9-4308-bd89-1dfbb1eb809d",
   "metadata": {},
   "outputs": [
    {
     "data": {
      "text/plain": [
       "{1, 2, 3, 4, 5}"
      ]
     },
     "execution_count": 146,
     "metadata": {},
     "output_type": "execute_result"
    }
   ],
   "source": [
    "set_1.update({5})\n",
    "set_1"
   ]
  },
  {
   "cell_type": "code",
   "execution_count": 147,
   "id": "cfe79bcd",
   "metadata": {},
   "outputs": [
    {
     "data": {
      "text/plain": [
       "{1, 2, 3, 4, 5, 6}"
      ]
     },
     "execution_count": 147,
     "metadata": {},
     "output_type": "execute_result"
    }
   ],
   "source": [
    "set_1.add(6)\n",
    "set_1"
   ]
  },
  {
   "cell_type": "code",
   "execution_count": 148,
   "id": "1f4a691f-f0c3-43fc-9df4-5a2eec86a83a",
   "metadata": {},
   "outputs": [
    {
     "ename": "TypeError",
     "evalue": "'set' object doesn't support item deletion",
     "output_type": "error",
     "traceback": [
      "\u001b[1;31m---------------------------------------------------------------------------\u001b[0m",
      "\u001b[1;31mTypeError\u001b[0m                                 Traceback (most recent call last)",
      "Cell \u001b[1;32mIn[148], line 2\u001b[0m\n\u001b[0;32m      1\u001b[0m \u001b[38;5;66;03m#can't use the \"del\" operator\u001b[39;00m\n\u001b[1;32m----> 2\u001b[0m \u001b[38;5;28;01mdel\u001b[39;00m set_1[\u001b[38;5;241m5\u001b[39m]\n",
      "\u001b[1;31mTypeError\u001b[0m: 'set' object doesn't support item deletion"
     ]
    }
   ],
   "source": [
    "#can't use the \"del\" operator\n",
    "del set_1[5]"
   ]
  },
  {
   "cell_type": "code",
   "execution_count": 149,
   "id": "3184bab2",
   "metadata": {},
   "outputs": [
    {
     "data": {
      "text/plain": [
       "{1, 2, 3, 4, 6}"
      ]
     },
     "execution_count": 149,
     "metadata": {},
     "output_type": "execute_result"
    }
   ],
   "source": [
    "set_1.discard(5)\n",
    "set_1"
   ]
  },
  {
   "cell_type": "markdown",
   "id": "c826133a",
   "metadata": {
    "jp-MarkdownHeadingCollapsed": true
   },
   "source": [
    "# Dictionaries"
   ]
  },
  {
   "cell_type": "code",
   "execution_count": 150,
   "id": "0e9eeae2",
   "metadata": {},
   "outputs": [
    {
     "data": {
      "text/plain": [
       "{'a': 'aardvark', 'b': 'bear', 'c': 'cat'}"
      ]
     },
     "execution_count": 150,
     "metadata": {},
     "output_type": "execute_result"
    }
   ],
   "source": [
    "animals = {\n",
    "    'a': 'aardvark',\n",
    "    'b': 'bear',\n",
    "    'c': 'cat',\n",
    "}\n",
    "animals"
   ]
  },
  {
   "cell_type": "code",
   "execution_count": 151,
   "id": "77c8d10f",
   "metadata": {},
   "outputs": [
    {
     "data": {
      "text/plain": [
       "'bear'"
      ]
     },
     "execution_count": 151,
     "metadata": {},
     "output_type": "execute_result"
    }
   ],
   "source": [
    "animals['b']"
   ]
  },
  {
   "cell_type": "code",
   "execution_count": 152,
   "id": "1369d245",
   "metadata": {},
   "outputs": [
    {
     "data": {
      "text/plain": [
       "{'a': 'aardvark', 'b': 'bear', 'c': 'cat', 'd': 'dog'}"
      ]
     },
     "execution_count": 152,
     "metadata": {},
     "output_type": "execute_result"
    }
   ],
   "source": [
    "animals['d'] = 'dog'\n",
    "animals"
   ]
  },
  {
   "cell_type": "code",
   "execution_count": 153,
   "id": "d75c7294",
   "metadata": {},
   "outputs": [
    {
     "data": {
      "text/plain": [
       "{'a': 'antelope', 'b': 'bear', 'c': 'cat', 'd': 'dog'}"
      ]
     },
     "execution_count": 153,
     "metadata": {},
     "output_type": "execute_result"
    }
   ],
   "source": [
    "animals['a'] = 'antelope'\n",
    "animals"
   ]
  },
  {
   "cell_type": "code",
   "execution_count": 154,
   "id": "815aff4e",
   "metadata": {},
   "outputs": [
    {
     "data": {
      "text/plain": [
       "dict_keys(['a', 'b', 'c', 'd'])"
      ]
     },
     "execution_count": 154,
     "metadata": {},
     "output_type": "execute_result"
    }
   ],
   "source": [
    "animals.keys()"
   ]
  },
  {
   "cell_type": "code",
   "execution_count": 155,
   "id": "ce4e42ca",
   "metadata": {},
   "outputs": [
    {
     "data": {
      "text/plain": [
       "dict_values(['antelope', 'bear', 'cat', 'dog'])"
      ]
     },
     "execution_count": 155,
     "metadata": {},
     "output_type": "execute_result"
    }
   ],
   "source": [
    "animals.values()"
   ]
  },
  {
   "cell_type": "code",
   "execution_count": 156,
   "id": "40fb240f",
   "metadata": {},
   "outputs": [
    {
     "data": {
      "text/plain": [
       "{'a': 'antelope',\n",
       " 'b': 'bear',\n",
       " 'c': 'cat',\n",
       " 'd': 'dog',\n",
       " 'e': 'elephant',\n",
       " 'f': 'fox'}"
      ]
     },
     "execution_count": 156,
     "metadata": {},
     "output_type": "execute_result"
    }
   ],
   "source": [
    "animals.update({\n",
    "    'e':'elephant',\n",
    "    'f': 'fox'\n",
    "})\n",
    "animals"
   ]
  },
  {
   "cell_type": "code",
   "execution_count": 157,
   "id": "837a3b88",
   "metadata": {},
   "outputs": [
    {
     "data": {
      "text/plain": [
       "{'b': 'bear', 'c': 'cat', 'd': 'dog', 'e': 'elephant', 'f': 'fox'}"
      ]
     },
     "execution_count": 157,
     "metadata": {},
     "output_type": "execute_result"
    }
   ],
   "source": [
    "del animals['a']\n",
    "animals"
   ]
  },
  {
   "cell_type": "markdown",
   "id": "234ce2de-37e8-4a7b-bc38-25fa0bd80a73",
   "metadata": {
    "jp-MarkdownHeadingCollapsed": true
   },
   "source": [
    "# Mass Operators"
   ]
  },
  {
   "cell_type": "code",
   "execution_count": 174,
   "id": "373db6bd-0a55-494c-8242-fd2c0e57790a",
   "metadata": {},
   "outputs": [],
   "source": [
    "#by creating lists, sets, or dictionaries, we can conduct mass operations\n",
    "list_1 = [1,2,3,4]"
   ]
  },
  {
   "cell_type": "code",
   "execution_count": 175,
   "id": "a07ced7a-d05b-4ee7-8937-f886a5792d9c",
   "metadata": {},
   "outputs": [
    {
     "data": {
      "text/plain": [
       "4"
      ]
     },
     "execution_count": 175,
     "metadata": {},
     "output_type": "execute_result"
    }
   ],
   "source": [
    "max(list_1)"
   ]
  },
  {
   "cell_type": "code",
   "execution_count": 176,
   "id": "c1e9c2a0-b27c-4326-bc07-90e8ab68a1d3",
   "metadata": {},
   "outputs": [
    {
     "data": {
      "text/plain": [
       "1"
      ]
     },
     "execution_count": 176,
     "metadata": {},
     "output_type": "execute_result"
    }
   ],
   "source": [
    "min(list_1)"
   ]
  },
  {
   "cell_type": "code",
   "execution_count": 177,
   "id": "355de82c-06d6-4777-bddd-58a4545950ad",
   "metadata": {},
   "outputs": [
    {
     "data": {
      "text/plain": [
       "10"
      ]
     },
     "execution_count": 177,
     "metadata": {},
     "output_type": "execute_result"
    }
   ],
   "source": [
    "sum(list_1)"
   ]
  },
  {
   "cell_type": "code",
   "execution_count": 20,
   "id": "996b606e-89b6-4e77-8529-6c1f4d33046e",
   "metadata": {},
   "outputs": [],
   "source": [
    "dict_1 = {\n",
    "    1: 2,\n",
    "    2: 4,\n",
    "    3: 6\n",
    "}"
   ]
  },
  {
   "cell_type": "code",
   "execution_count": 21,
   "id": "9a20d849-58a4-4ce7-8c7b-9038f7cd7450",
   "metadata": {},
   "outputs": [
    {
     "data": {
      "text/plain": [
       "6"
      ]
     },
     "execution_count": 21,
     "metadata": {},
     "output_type": "execute_result"
    }
   ],
   "source": [
    "sum(dict_1)"
   ]
  },
  {
   "cell_type": "code",
   "execution_count": 22,
   "id": "2e73bb62-1484-4704-8e0e-5a8b44755241",
   "metadata": {},
   "outputs": [
    {
     "data": {
      "text/plain": [
       "12"
      ]
     },
     "execution_count": 22,
     "metadata": {},
     "output_type": "execute_result"
    }
   ],
   "source": [
    "sum(dict_1.values())"
   ]
  },
  {
   "cell_type": "code",
   "execution_count": null,
   "id": "23ea9928-7f5b-432d-89b0-0e13ecf3c854",
   "metadata": {},
   "outputs": [],
   "source": []
  }
 ],
 "metadata": {
  "kernelspec": {
   "display_name": "Python 3 (ipykernel)",
   "language": "python",
   "name": "python3"
  },
  "language_info": {
   "codemirror_mode": {
    "name": "ipython",
    "version": 3
   },
   "file_extension": ".py",
   "mimetype": "text/x-python",
   "name": "python",
   "nbconvert_exporter": "python",
   "pygments_lexer": "ipython3",
   "version": "3.11.9"
  }
 },
 "nbformat": 4,
 "nbformat_minor": 5
}

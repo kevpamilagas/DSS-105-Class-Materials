{
 "cells": [
  {
   "cell_type": "markdown",
   "id": "e9bfa611",
   "metadata": {},
   "source": [
    "# Import required libraries"
   ]
  },
  {
   "cell_type": "code",
   "execution_count": null,
   "id": "cff0fc4d",
   "metadata": {},
   "outputs": [],
   "source": [
    "import pandas as pd\n",
    "from datetime import datetime"
   ]
  },
  {
   "cell_type": "markdown",
   "id": "667ac1b5",
   "metadata": {},
   "source": [
    "# Read and Cleaning Code from Python Block 6"
   ]
  },
  {
   "cell_type": "code",
   "execution_count": null,
   "id": "eea0f9d0",
   "metadata": {},
   "outputs": [],
   "source": [
    "store = pd.read_csv('Store 7141 Raw Data (clean).csv') #reads in .csv\n",
    "store['DateTime'] = pd.to_datetime(store['DateTime']) #conversion of 'DateTime' column to datetime64\n",
    "month_order = ['January','February','March','April','May','June','July','August','September','October','November','December'] #create order of months\n",
    "store['Month'] = pd.Categorical(store['Month'], categories=month_order, ordered=True) #conversion of 'Month' column to categorical\n",
    "\n",
    "#this is new, but its just to do the same thing we did to months on shifts\n",
    "shift_order = ['Morning', 'Lunch', 'Mid-Day', 'Dinner', 'Evening'] #create order of shifts\n",
    "store['Shift'] = pd.Categorical(store['Shift'], categories=shift_order, ordered=True) #conversion of 'Shift' column to categorical\n",
    "store.info()"
   ]
  },
  {
   "cell_type": "markdown",
   "id": "c977a1ee",
   "metadata": {},
   "source": [
    "# Basic Visualization Tools"
   ]
  },
  {
   "cell_type": "code",
   "execution_count": null,
   "id": "44a007ab-629b-437d-b25a-a7c5ca0e696e",
   "metadata": {},
   "outputs": [],
   "source": []
  },
  {
   "cell_type": "markdown",
   "id": "68d8446e-6650-481b-9064-c6a34f333506",
   "metadata": {},
   "source": [
    "# Editing Plot Features with Pandas"
   ]
  },
  {
   "cell_type": "code",
   "execution_count": null,
   "id": "2386af65-df46-4486-8764-01629c6ce845",
   "metadata": {},
   "outputs": [],
   "source": []
  },
  {
   "cell_type": "markdown",
   "id": "0b3c9463-5f48-46cf-9808-ea608c8548bb",
   "metadata": {},
   "source": [
    "# Seaborne and Matplotlib Visualization Libraries"
   ]
  },
  {
   "cell_type": "code",
   "execution_count": null,
   "id": "531a2397-5499-466c-a90a-77e6201b9a9a",
   "metadata": {},
   "outputs": [],
   "source": []
  },
  {
   "cell_type": "markdown",
   "id": "9bf50383-8b6d-466a-89d7-d8a48a9eb2d0",
   "metadata": {},
   "source": [
    "# Plotting Multiple Figures Together"
   ]
  },
  {
   "cell_type": "code",
   "execution_count": null,
   "id": "cb77c2e0-410b-41f6-9ab0-b0ebf55d4282",
   "metadata": {},
   "outputs": [],
   "source": []
  }
 ],
 "metadata": {
  "kernelspec": {
   "display_name": "Python 3 (ipykernel)",
   "language": "python",
   "name": "python3"
  },
  "language_info": {
   "codemirror_mode": {
    "name": "ipython",
    "version": 3
   },
   "file_extension": ".py",
   "mimetype": "text/x-python",
   "name": "python",
   "nbconvert_exporter": "python",
   "pygments_lexer": "ipython3",
   "version": "3.11.7"
  }
 },
 "nbformat": 4,
 "nbformat_minor": 5
}

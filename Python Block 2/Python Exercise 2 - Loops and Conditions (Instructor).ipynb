{
 "cells": [
  {
   "cell_type": "markdown",
   "id": "ace7373e-43c2-40a9-ab6c-afada10c5398",
   "metadata": {
    "jp-MarkdownHeadingCollapsed": true
   },
   "source": [
    "## 1. Create a list of numbers from 0 to 100 that are divisible by 4 or 5."
   ]
  },
  {
   "cell_type": "code",
   "execution_count": 1,
   "id": "e7830103-5e3b-4881-864d-08b58f3d89bd",
   "metadata": {},
   "outputs": [
    {
     "name": "stdout",
     "output_type": "stream",
     "text": [
      "[0, 4, 5, 8, 10, 12, 15, 16, 20, 24, 25, 28, 30, 32, 35, 36, 40, 44, 45, 48, 50, 52, 55, 56, 60, 64, 65, 68, 70, 72, 75, 76, 80, 84, 85, 88, 90, 92, 95, 96, 100]\n"
     ]
    }
   ],
   "source": [
    "#create list from 0 to 100\n",
    "list = range(101)\n",
    "\n",
    "#create empty list to catch numbers\n",
    "numbers = []\n",
    "\n",
    "#check for divisibility\n",
    "for i in list:\n",
    "    if i % 5 == 0 or i % 4 == 0:\n",
    "        numbers.append(i)\n",
    "print(numbers)"
   ]
  },
  {
   "cell_type": "code",
   "execution_count": 13,
   "id": "f2c3e312-4331-4ad6-a691-92e7fd49ce43",
   "metadata": {},
   "outputs": [
    {
     "data": {
      "text/plain": [
       "[0,\n",
       " 4,\n",
       " 5,\n",
       " 8,\n",
       " 10,\n",
       " 12,\n",
       " 15,\n",
       " 16,\n",
       " 20,\n",
       " 24,\n",
       " 25,\n",
       " 28,\n",
       " 30,\n",
       " 32,\n",
       " 35,\n",
       " 36,\n",
       " 40,\n",
       " 44,\n",
       " 45,\n",
       " 48,\n",
       " 50,\n",
       " 52,\n",
       " 55,\n",
       " 56,\n",
       " 60,\n",
       " 64,\n",
       " 65,\n",
       " 68,\n",
       " 70,\n",
       " 72,\n",
       " 75,\n",
       " 76,\n",
       " 80,\n",
       " 84,\n",
       " 85,\n",
       " 88,\n",
       " 90,\n",
       " 92,\n",
       " 95,\n",
       " 96,\n",
       " 100]"
      ]
     },
     "execution_count": 13,
     "metadata": {},
     "output_type": "execute_result"
    }
   ],
   "source": [
    "#create list from 0 to 100\n",
    "list = range(101)\n",
    "\n",
    "#create empty list to catch numbers\n",
    "numbers = []\n",
    "\n",
    "#check for divisibility\n",
    "for i in list:\n",
    "    if i % 5 == 0:\n",
    "        numbers.append(i)\n",
    "    elif i % 4 == 0:\n",
    "        numbers.append(i)\n",
    "numbers"
   ]
  },
  {
   "cell_type": "code",
   "execution_count": null,
   "id": "199b4e84-92cc-4483-86dc-5eded128e4f4",
   "metadata": {},
   "outputs": [],
   "source": [
    "#advanced solution using \"list comprehension\" format\n",
    "numbers = [i for i in range(101) if i % 5 == 0 or i % 4 == 0]\n",
    "numbers"
   ]
  },
  {
   "cell_type": "markdown",
   "id": "1773a2c5-0df1-47ce-9230-4550db18ae3c",
   "metadata": {
    "jp-MarkdownHeadingCollapsed": true
   },
   "source": [
    "## 2. Add the numbers 3, 6, and 9 to the list and sort the list from least to greatest."
   ]
  },
  {
   "cell_type": "code",
   "execution_count": null,
   "id": "50b420fd-e0a8-4621-930d-a50a1b6c9095",
   "metadata": {},
   "outputs": [],
   "source": [
    "#start with this, why does this solution not work?\n",
    "numbers.append([3,6,9])\n",
    "\n",
    "#remind students they will have to refresh the variable \"numbers\""
   ]
  },
  {
   "cell_type": "code",
   "execution_count": null,
   "id": "aa2b8ce3-0f32-4500-a686-897d64d5c321",
   "metadata": {},
   "outputs": [],
   "source": [
    "#easy solution\n",
    "numbers.append(3)\n",
    "numbers.append(6)\n",
    "numbers.append(9)"
   ]
  },
  {
   "cell_type": "code",
   "execution_count": 14,
   "id": "258c972b-65c2-43a9-9272-e66910c03b1d",
   "metadata": {},
   "outputs": [
    {
     "data": {
      "text/plain": [
       "[0,\n",
       " 4,\n",
       " 5,\n",
       " 8,\n",
       " 10,\n",
       " 12,\n",
       " 15,\n",
       " 16,\n",
       " 20,\n",
       " 24,\n",
       " 25,\n",
       " 28,\n",
       " 30,\n",
       " 32,\n",
       " 35,\n",
       " 36,\n",
       " 40,\n",
       " 44,\n",
       " 45,\n",
       " 48,\n",
       " 50,\n",
       " 52,\n",
       " 55,\n",
       " 56,\n",
       " 60,\n",
       " 64,\n",
       " 65,\n",
       " 68,\n",
       " 70,\n",
       " 72,\n",
       " 75,\n",
       " 76,\n",
       " 80,\n",
       " 84,\n",
       " 85,\n",
       " 88,\n",
       " 90,\n",
       " 92,\n",
       " 95,\n",
       " 96,\n",
       " 100,\n",
       " 3,\n",
       " 6,\n",
       " 9]"
      ]
     },
     "execution_count": 14,
     "metadata": {},
     "output_type": "execute_result"
    }
   ],
   "source": [
    "#this is a more robust solution\n",
    "list2 = [3,6,9]\n",
    "\n",
    "for i in list2:\n",
    "    numbers.append(i)\n",
    "\n",
    "numbers"
   ]
  },
  {
   "cell_type": "code",
   "execution_count": null,
   "id": "63813178-294f-407c-94a8-466dbcdea6ae",
   "metadata": {},
   "outputs": [],
   "source": [
    "#even easier solution using the +\n",
    "numbers + [3,6,9]"
   ]
  },
  {
   "cell_type": "code",
   "execution_count": 15,
   "id": "6572a1bf-2e7b-49de-96ba-8f443b187807",
   "metadata": {},
   "outputs": [
    {
     "data": {
      "text/plain": [
       "[0,\n",
       " 3,\n",
       " 4,\n",
       " 5,\n",
       " 6,\n",
       " 8,\n",
       " 9,\n",
       " 10,\n",
       " 12,\n",
       " 15,\n",
       " 16,\n",
       " 20,\n",
       " 24,\n",
       " 25,\n",
       " 28,\n",
       " 30,\n",
       " 32,\n",
       " 35,\n",
       " 36,\n",
       " 40,\n",
       " 44,\n",
       " 45,\n",
       " 48,\n",
       " 50,\n",
       " 52,\n",
       " 55,\n",
       " 56,\n",
       " 60,\n",
       " 64,\n",
       " 65,\n",
       " 68,\n",
       " 70,\n",
       " 72,\n",
       " 75,\n",
       " 76,\n",
       " 80,\n",
       " 84,\n",
       " 85,\n",
       " 88,\n",
       " 90,\n",
       " 92,\n",
       " 95,\n",
       " 96,\n",
       " 100]"
      ]
     },
     "execution_count": 15,
     "metadata": {},
     "output_type": "execute_result"
    }
   ],
   "source": [
    "#sort the numbers\n",
    "numbers.sort()\n",
    "numbers"
   ]
  },
  {
   "cell_type": "markdown",
   "id": "8b218919-26da-404c-a72b-41dc2e58234c",
   "metadata": {
    "jp-MarkdownHeadingCollapsed": true
   },
   "source": [
    "## 3. Using the updated numbers list, create a dictionary for all the numbers and their squared values. (i.e., {0: 0, 3: 9, ...})"
   ]
  },
  {
   "cell_type": "code",
   "execution_count": 18,
   "id": "3c4a61f5-ed3d-4043-9721-1ff962c8645f",
   "metadata": {},
   "outputs": [
    {
     "data": {
      "text/plain": [
       "{0: 0, 3: 9}"
      ]
     },
     "execution_count": 18,
     "metadata": {},
     "output_type": "execute_result"
    }
   ],
   "source": [
    "#show this step first to show how we could define the first few entries\n",
    "test = {0: 0**2}\n",
    "test.update({3: 3**2})\n",
    "test"
   ]
  },
  {
   "cell_type": "code",
   "execution_count": 17,
   "id": "bb4e3ebc-2ec6-47ba-a386-4b1638017b34",
   "metadata": {},
   "outputs": [
    {
     "data": {
      "text/plain": [
       "{0: 0,\n",
       " 3: 9,\n",
       " 4: 16,\n",
       " 5: 25,\n",
       " 6: 36,\n",
       " 8: 64,\n",
       " 9: 81,\n",
       " 10: 100,\n",
       " 12: 144,\n",
       " 15: 225,\n",
       " 16: 256,\n",
       " 20: 400,\n",
       " 24: 576,\n",
       " 25: 625,\n",
       " 28: 784,\n",
       " 30: 900,\n",
       " 32: 1024,\n",
       " 35: 1225,\n",
       " 36: 1296,\n",
       " 40: 1600,\n",
       " 44: 1936,\n",
       " 45: 2025,\n",
       " 48: 2304,\n",
       " 50: 2500,\n",
       " 52: 2704,\n",
       " 55: 3025,\n",
       " 56: 3136,\n",
       " 60: 3600,\n",
       " 64: 4096,\n",
       " 65: 4225,\n",
       " 68: 4624,\n",
       " 70: 4900,\n",
       " 72: 5184,\n",
       " 75: 5625,\n",
       " 76: 5776,\n",
       " 80: 6400,\n",
       " 84: 7056,\n",
       " 85: 7225,\n",
       " 88: 7744,\n",
       " 90: 8100,\n",
       " 92: 8464,\n",
       " 95: 9025,\n",
       " 96: 9216,\n",
       " 100: 10000}"
      ]
     },
     "execution_count": 17,
     "metadata": {},
     "output_type": "execute_result"
    }
   ],
   "source": [
    "#create empty set to catch dictionary\n",
    "numbers_dict = {}\n",
    "\n",
    "for i in numbers:\n",
    "    numbers_dict.update({i: i**2})\n",
    "\n",
    "numbers_dict"
   ]
  },
  {
   "cell_type": "code",
   "execution_count": null,
   "id": "10c7f38e-ac52-4944-ada1-9f90933a7c59",
   "metadata": {},
   "outputs": [],
   "source": [
    "#advanced solution using \"dictionary comprehension\" format\n",
    "numbers_squared_dict = {i: i**2 for i in numbers}\n",
    "numbers_squared_dict"
   ]
  },
  {
   "cell_type": "markdown",
   "id": "0ca6d1a7-a747-4a4b-88a8-557e3607db79",
   "metadata": {
    "jp-MarkdownHeadingCollapsed": true
   },
   "source": [
    "## 4. Sum all the squared values in the dictionary."
   ]
  },
  {
   "cell_type": "code",
   "execution_count": 19,
   "id": "ff063c7c-eedc-4849-8805-231427e0cae6",
   "metadata": {},
   "outputs": [
    {
     "data": {
      "text/plain": [
       "2068"
      ]
     },
     "execution_count": 19,
     "metadata": {},
     "output_type": "execute_result"
    }
   ],
   "source": [
    "#start with this solution, why is it wrong?\n",
    "sum(numbers_dict)"
   ]
  },
  {
   "cell_type": "code",
   "execution_count": 20,
   "id": "c18bab27-970e-4980-b43a-32345acc3319",
   "metadata": {},
   "outputs": [
    {
     "data": {
      "text/plain": [
       "138276"
      ]
     },
     "execution_count": 20,
     "metadata": {},
     "output_type": "execute_result"
    }
   ],
   "source": [
    "#correct solution\n",
    "sum(numbers_dict.values())"
   ]
  },
  {
   "cell_type": "code",
   "execution_count": null,
   "id": "8975f5ac-4f2f-486b-9223-1a35359e9219",
   "metadata": {},
   "outputs": [],
   "source": []
  }
 ],
 "metadata": {
  "kernelspec": {
   "display_name": "Python 3 (ipykernel)",
   "language": "python",
   "name": "python3"
  },
  "language_info": {
   "codemirror_mode": {
    "name": "ipython",
    "version": 3
   },
   "file_extension": ".py",
   "mimetype": "text/x-python",
   "name": "python",
   "nbconvert_exporter": "python",
   "pygments_lexer": "ipython3",
   "version": "3.11.9"
  }
 },
 "nbformat": 4,
 "nbformat_minor": 5
}

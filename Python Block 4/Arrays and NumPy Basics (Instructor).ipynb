{
 "cells": [
  {
   "cell_type": "markdown",
   "id": "32c016b8",
   "metadata": {},
   "source": [
    "<img src=\"Smart_Fresh.jpg\" alt=\"Smart and Fresh Logo\" style=\"float: left; margin-right: 10px;\" />"
   ]
  },
  {
   "cell_type": "markdown",
   "id": "481655ef",
   "metadata": {},
   "source": [
    "<div style=\"display: flex; justify-content: center;\">\n",
    "    <div style=\"margin-right: 20px;\">\n",
    "        <table>\n",
    "            <tr>\n",
    "                <td colspan=\"4\" align=\"center\"><strong>Sandwich Prices</strong></td>\n",
    "            </tr>\n",
    "            <tr>\n",
    "                <td align=\"center\"><strong>Menu #</strong></td>\n",
    "                <td align=\"center\"><strong>Sandwich</strong></td>\n",
    "                <td align=\"center\"><strong>6\"</strong></td>\n",
    "                <td align=\"center\"><strong>12\"</strong></td>\n",
    "            </tr>\n",
    "            <tr>\n",
    "                <td>1</td>\n",
    "                <td>Cold Cut</td>\n",
    "                <td>\\$3.75</td>\n",
    "                <td>\\$5.50</td>\n",
    "            </tr>\n",
    "            <tr>\n",
    "                <td>2</td>\n",
    "                <td>BLT</td>\n",
    "                <td>\\$3.75</td>\n",
    "                <td>\\$5.50</td>\n",
    "            </tr>\n",
    "            <tr>\n",
    "                <td>3</td>\n",
    "                <td>Italian</td>\n",
    "                <td>\\$4.25</td>\n",
    "                <td>\\$6.75</td>\n",
    "            </tr>\n",
    "            <tr>\n",
    "                <td>4</td>\n",
    "                <td>Meatball</td>\n",
    "                <td>\\$3.75</td>\n",
    "                <td>\\$5.50</td>\n",
    "            </tr>\n",
    "            <tr>\n",
    "                <td>5</td>\n",
    "                <td>Chicken</td>\n",
    "                <td>\\$4.75</td>\n",
    "                <td>\\$7.75</td>\n",
    "            </tr>\n",
    "            <tr>\n",
    "                <td>6</td>\n",
    "                <td>Steak</td>\n",
    "                <td>\\$4.75</td>\n",
    "                <td>\\$7.75</td>\n",
    "            </tr>\n",
    "            <tr>\n",
    "                <td>7</td>\n",
    "                <td>Pastrami</td>\n",
    "                <td>\\$4.75</td>\n",
    "                <td>\\$6.75</td>\n",
    "            </tr>\n",
    "        </table>\n",
    "    </div>\n",
    "    <div>\n",
    "        <table>\n",
    "            <tr>\n",
    "                <td colspan=\"4\" align=\"center\"><strong>Sandwich Cost</strong></td>\n",
    "            </tr>\n",
    "            <tr>\n",
    "                <td align=\"center\"><strong>Menu #</strong></td>\n",
    "                <td align=\"center\"><strong>Sandwich</strong></td>\n",
    "                <td align=\"center\"><strong>6\"</strong></td>\n",
    "                <td align=\"center\"><strong>12\"</strong></td>\n",
    "            </tr>\n",
    "            <tr>\n",
    "                <td>1</td>\n",
    "                <td>Cold Cut</td>\n",
    "                <td>\\$0.70</td>\n",
    "                <td>\\$1.33</td>\n",
    "            </tr>\n",
    "            <tr>\n",
    "                <td>2</td>\n",
    "                <td>BLT</td>\n",
    "                <td>\\$0.73</td>\n",
    "                <td>\\$1.39</td>\n",
    "            </tr>\n",
    "            <tr>\n",
    "                <td>3</td>\n",
    "                <td>Italian</td>\n",
    "                <td>\\$0.81</td>\n",
    "                <td>\\$1.54</td>\n",
    "            </tr>\n",
    "            <tr>\n",
    "                <td>4</td>\n",
    "                <td>Meatball</td>\n",
    "                <td>\\$0.65</td>\n",
    "                <td>\\$1.23</td>\n",
    "            </tr>\n",
    "            <tr>\n",
    "                <td>5</td>\n",
    "                <td>Chicken</td>\n",
    "                <td>\\$0.93</td>\n",
    "                <td>\\$1.78</td>\n",
    "            </tr>\n",
    "            <tr>\n",
    "                <td>6</td>\n",
    "                <td>Steak</td>\n",
    "                <td>\\$1.05</td>\n",
    "                <td>\\$2.02</td>\n",
    "            </tr>\n",
    "            <tr>\n",
    "                <td>7</td>\n",
    "                <td>Pastrami</td>\n",
    "                <td>\\$0.80</td>\n",
    "                <td>\\$1.52</td>\n",
    "            </tr>\n",
    "        </table>\n",
    "    </div>\n",
    "    <div style=\"margin-left: 20px;\">\n",
    "    <table>\n",
    "      <tr>\n",
    "        <td colspan=\"3\" align=\"center\"><strong>Shifts</strong></td>\n",
    "      </tr>\n",
    "      <tr>\n",
    "        <td><strong>Morning</strong></td>\n",
    "        <td>1000</td>\n",
    "        <td>1059</td>  \n",
    "      </tr>\n",
    "      <tr>\n",
    "        <td><strong>Lunch</strong></td>\n",
    "        <td>1100</td>\n",
    "        <td>1359</td>  \n",
    "      </tr>\n",
    "      <tr>\n",
    "        <td><strong>Mid-Day</strong></td>\n",
    "        <td>1400</td>\n",
    "        <td>1559</td>  \n",
    "      </tr>\n",
    "      <tr>\n",
    "        <td><strong>Dinner</strong></td>\n",
    "        <td>1600</td>\n",
    "        <td>2059</td>  \n",
    "      </tr>\n",
    "      <tr>\n",
    "        <td><strong>Evening</strong></td>\n",
    "        <td>2100</td>\n",
    "        <td>2200</td>  \n",
    "      </tr>        \n",
    "    </table>\n",
    "  </div>\n",
    "</div>\n"
   ]
  },
  {
   "cell_type": "markdown",
   "id": "771c9296",
   "metadata": {},
   "source": [
    "<div style=\"display: flex; justify-content: center;\">\n",
    "    <div style=\"margin-right: 20px;\">\n",
    "        <table>\n",
    "            <tr>\n",
    "                <td colspan=\"2\" align=\"center\"><strong>Promotions</strong></td>\n",
    "            </tr>\n",
    "            <tr>\n",
    "                <td><strong>January</strong></td>\n",
    "                <td>\\$5 Footlong</td>\n",
    "            </tr>\n",
    "            <tr>\n",
    "                <td><strong>February</strong></td>\n",
    "                <td>25% off Steak Sandwich</td>\n",
    "            </tr>\n",
    "            <tr>\n",
    "                <td><strong>October</strong></td>\n",
    "                <td>25% off Italian Sandwich</td>\n",
    "            </tr>\n",
    "            <tr>\n",
    "                <td><strong>November</strong></td>\n",
    "                <td>\\$5 Footlong</td>\n",
    "            </tr>\n",
    "        </table>\n",
    "    </div>\n",
    "    <div>\n",
    "        <table>\n",
    "            <tr>\n",
    "                <td colspan=\"2\" align=\"center\"><strong>Business Priorities (KPIs)</strong></td>\n",
    "            </tr>\n",
    "            <tr>\n",
    "                <td>1</td>\n",
    "                <td>Quality</td>\n",
    "            </tr>\n",
    "            <tr>\n",
    "                <td>2</td>\n",
    "                <td>Customer Satisfaction</td>\n",
    "            </tr>\n",
    "            <tr>\n",
    "                <td>3</td>\n",
    "                <td>Cost</td>\n",
    "            </tr>\n",
    "            <tr>\n",
    "                <td>4</td>\n",
    "                <td>Gross Sales</td>\n",
    "            </tr>\n",
    "        </table>\n",
    "    </div>\n",
    "</div>\n"
   ]
  },
  {
   "cell_type": "markdown",
   "id": "846f746e",
   "metadata": {},
   "source": [
    "<div class=\"alert alert-block alert-info\"><b>Info:</b> You are a store manager for a leading international sandwich franchise.  You have been asked to conduct analysis for your store to identify some of the issues it has been having over the past year.</div>"
   ]
  },
  {
   "cell_type": "markdown",
   "id": "ea1234fb",
   "metadata": {
    "jp-MarkdownHeadingCollapsed": true
   },
   "source": [
    "# Import required Libraries"
   ]
  },
  {
   "cell_type": "code",
   "execution_count": 1,
   "id": "fe567773",
   "metadata": {},
   "outputs": [],
   "source": [
    "import numpy as np\n",
    "import csv"
   ]
  },
  {
   "cell_type": "markdown",
   "id": "06a00d87",
   "metadata": {
    "jp-MarkdownHeadingCollapsed": true
   },
   "source": [
    "# Read in .csv file as NumPy Array"
   ]
  },
  {
   "cell_type": "code",
   "execution_count": 4,
   "id": "4886a160",
   "metadata": {},
   "outputs": [
    {
     "data": {
      "text/plain": [
       "array([['ï»¿', '', '', ..., '', '', ''],\n",
       "       ['Trans_id', 'Menu_id', 'Sand_id', ..., '', '', ''],\n",
       "       ['7141.42739.4326', '1', '2', ..., '50847', '', ''],\n",
       "       ...,\n",
       "       ['7141.43100.8882', '4', '1', ..., '', '', ''],\n",
       "       ['7141.43100.8889', '2', '2', ..., '', '', ''],\n",
       "       ['7141.43100.8958', '5', '1', ..., '', '', '']], dtype='<U15')"
      ]
     },
     "execution_count": 4,
     "metadata": {},
     "output_type": "execute_result"
    }
   ],
   "source": [
    "store = np.array(list(csv.reader(open('Store 7141 Raw Data.csv'))))\n",
    "store"
   ]
  },
  {
   "cell_type": "markdown",
   "id": "9c36ddfc",
   "metadata": {
    "jp-MarkdownHeadingCollapsed": true
   },
   "source": [
    "# Cleaning NumPy Arrays"
   ]
  },
  {
   "cell_type": "code",
   "execution_count": 6,
   "id": "dc6d6362",
   "metadata": {},
   "outputs": [
    {
     "data": {
      "text/plain": [
       "array([['Trans_id', 'Menu_id', 'Sand_id', ..., '', '', ''],\n",
       "       ['7141.42739.4326', '1', '2', ..., '50847', '', ''],\n",
       "       ['7141.42739.4535', '6', '2', ..., '69076', '', ''],\n",
       "       ...,\n",
       "       ['7141.43100.8882', '4', '1', ..., '', '', ''],\n",
       "       ['7141.43100.8889', '2', '2', ..., '', '', ''],\n",
       "       ['7141.43100.8958', '5', '1', ..., '', '', '']], dtype='<U15')"
      ]
     },
     "execution_count": 6,
     "metadata": {},
     "output_type": "execute_result"
    }
   ],
   "source": [
    "store_edit = store[1:]\n",
    "store_edit"
   ]
  },
  {
   "cell_type": "code",
   "execution_count": 7,
   "id": "40658bd5",
   "metadata": {},
   "outputs": [
    {
     "data": {
      "text/plain": [
       "array([['Trans_id', 'Menu_id', 'Sand_id', ..., 'Value', 'Quality',\n",
       "        'Grade'],\n",
       "       ['7141.42739.4326', '1', '2', ..., '25', '32', '81'],\n",
       "       ['7141.42739.4535', '6', '2', ..., '28', '18', '73'],\n",
       "       ...,\n",
       "       ['7141.43100.8882', '4', '1', ..., '23', '28', '77'],\n",
       "       ['7141.43100.8889', '2', '2', ..., '11', '28', '65'],\n",
       "       ['7141.43100.8958', '5', '1', ..., '22', '32', '79']], dtype='<U15')"
      ]
     },
     "execution_count": 7,
     "metadata": {},
     "output_type": "execute_result"
    }
   ],
   "source": [
    "store_cleaned = np.delete(store_edit, np.s_[-11:], axis=1) #try -3 first to show that it's not enough\n",
    "store_cleaned"
   ]
  },
  {
   "cell_type": "code",
   "execution_count": 8,
   "id": "0ea90a46",
   "metadata": {},
   "outputs": [
    {
     "data": {
      "text/plain": [
       "(50848, 24)"
      ]
     },
     "execution_count": 8,
     "metadata": {},
     "output_type": "execute_result"
    }
   ],
   "source": [
    "store_cleaned.shape #Note: if you want # of data points, you want to exclude the first row"
   ]
  },
  {
   "cell_type": "code",
   "execution_count": null,
   "id": "560af3ce-6f5d-40ee-ad56-f619a78a40fb",
   "metadata": {},
   "outputs": [],
   "source": [
    "#same thing as np.delete above\n",
    "store_edit[:, 0:-11:]"
   ]
  },
  {
   "cell_type": "markdown",
   "id": "3417c505",
   "metadata": {
    "jp-MarkdownHeadingCollapsed": true
   },
   "source": [
    "# Slicing NumPy Arrays"
   ]
  },
  {
   "cell_type": "code",
   "execution_count": 48,
   "id": "83fa9087",
   "metadata": {},
   "outputs": [
    {
     "data": {
      "text/plain": [
       "['Conv', 'Wait', 'Value', 'Quality', 'Grade']"
      ]
     },
     "execution_count": 48,
     "metadata": {},
     "output_type": "execute_result"
    }
   ],
   "source": [
    "Survey_Headers = ['Conv', 'Wait', 'Value', 'Quality','Grade']\n",
    "Survey_Headers"
   ]
  },
  {
   "cell_type": "code",
   "execution_count": 49,
   "id": "1b1d37e2",
   "metadata": {},
   "outputs": [
    {
     "data": {
      "text/plain": [
       "array(['Trans_id', 'Menu_id', 'Sand_id', 'Employees', 'Bread_CT',\n",
       "       'Cheese_CT', 'Protein_CT', 'Produce_CT', 'Wrap_CT', 'Payment_CT',\n",
       "       'Cycle', 'Labor_Cost', 'Bread_Cost', 'Cheese_Cost', 'Protein_Cost',\n",
       "       'Produce_Cost', 'Wrap_Cost', 'Total_Cost', 'Price', 'Conv', 'Wait',\n",
       "       'Value', 'Quality', 'Grade'], dtype='<U15')"
      ]
     },
     "execution_count": 49,
     "metadata": {},
     "output_type": "execute_result"
    }
   ],
   "source": [
    "header_row = store_cleaned[0]\n",
    "header_row"
   ]
  },
  {
   "cell_type": "code",
   "execution_count": 50,
   "id": "55039ed6",
   "metadata": {},
   "outputs": [
    {
     "name": "stdout",
     "output_type": "stream",
     "text": [
      "[0] [19]\n",
      "[0] [20]\n",
      "[0] [21]\n",
      "[0] [22]\n",
      "[0] [23]\n"
     ]
    }
   ],
   "source": [
    "# for i in Survey_Headers:\n",
    "#     print(np.where(store_cleaned == i))\n",
    "\n",
    "# \"ctrl + /\" to comment out code    \n",
    "for i in Survey_Headers:\n",
    "    print(np.where(store_cleaned == i)[0], np.where(store_cleaned == i)[1])"
   ]
  },
  {
   "cell_type": "code",
   "execution_count": 51,
   "id": "82fd4bc9",
   "metadata": {},
   "outputs": [
    {
     "data": {
      "text/plain": [
       "array([['6', '18', '25', '32', '81'],\n",
       "       ['9', '18', '28', '18', '73'],\n",
       "       ['8', '12', '11', '32', '63'],\n",
       "       ...,\n",
       "       ['4', '22', '23', '28', '77'],\n",
       "       ['6', '20', '11', '28', '65'],\n",
       "       ['8', '17', '22', '32', '79']], dtype='<U15')"
      ]
     },
     "execution_count": 51,
     "metadata": {},
     "output_type": "execute_result"
    }
   ],
   "source": [
    "Survey_Results = store_cleaned[1:, range(19,24)]\n",
    "Survey_Results"
   ]
  },
  {
   "cell_type": "code",
   "execution_count": null,
   "id": "b2e26474-bd74-4f39-8222-8be367d768bf",
   "metadata": {},
   "outputs": [],
   "source": [
    "#alternative methodology\n",
    "store_cleaned[1:, 19:24:]"
   ]
  },
  {
   "cell_type": "markdown",
   "id": "1ab9b0a3",
   "metadata": {
    "jp-MarkdownHeadingCollapsed": true
   },
   "source": [
    "# Calculate Summary Statistics"
   ]
  },
  {
   "cell_type": "code",
   "execution_count": 52,
   "id": "02fa8406",
   "metadata": {},
   "outputs": [
    {
     "data": {
      "text/plain": [
       "6.350463154168388"
      ]
     },
     "execution_count": 52,
     "metadata": {},
     "output_type": "execute_result"
    }
   ],
   "source": [
    "### do incorrect way first ###\n",
    "# np.mean(Survey_Results[:, 0])\n",
    "\n",
    "np.mean(Survey_Results[:, 0].astype(float))"
   ]
  },
  {
   "cell_type": "code",
   "execution_count": 53,
   "id": "09aa4b58",
   "metadata": {},
   "outputs": [
    {
     "data": {
      "text/plain": [
       "array([[ 6., 18., 25., 32., 81.],\n",
       "       [ 9., 18., 28., 18., 73.],\n",
       "       [ 8., 12., 11., 32., 63.],\n",
       "       ...,\n",
       "       [ 4., 22., 23., 28., 77.],\n",
       "       [ 6., 20., 11., 28., 65.],\n",
       "       [ 8., 17., 22., 32., 79.]])"
      ]
     },
     "execution_count": 53,
     "metadata": {},
     "output_type": "execute_result"
    }
   ],
   "source": [
    "Survey_Fixed = Survey_Results.astype(float)\n",
    "Survey_Fixed"
   ]
  },
  {
   "cell_type": "code",
   "execution_count": 54,
   "id": "be06674a",
   "metadata": {},
   "outputs": [
    {
     "data": {
      "text/plain": [
       "array([ 6.35046315, -6.9851712 , 23.46144315, 27.34352076, 50.17025587])"
      ]
     },
     "execution_count": 54,
     "metadata": {},
     "output_type": "execute_result"
    }
   ],
   "source": [
    "np.mean(Survey_Fixed, axis=0)"
   ]
  },
  {
   "cell_type": "code",
   "execution_count": 55,
   "id": "86fd1ecc",
   "metadata": {},
   "outputs": [
    {
     "name": "stdout",
     "output_type": "stream",
     "text": [
      "[ 7. -8. 24. 29. 51.]\n",
      "[ 1.94836055 15.65848552  8.69478189  9.42650847 19.00310302]\n",
      "[ 10.  35.  53.  44. 105.]\n",
      "[  1. -50.   1.   1. -25.]\n"
     ]
    }
   ],
   "source": [
    "print(np.median(Survey_Fixed, axis=0))\n",
    "print(np.std(Survey_Fixed, axis=0)) #you can change to sample std dev with \"ddof = 1\" added in\n",
    "print(np.max(Survey_Fixed, axis=0))\n",
    "print(np.min(Survey_Fixed, axis=0))"
   ]
  },
  {
   "cell_type": "code",
   "execution_count": 56,
   "id": "4549c2c0",
   "metadata": {},
   "outputs": [
    {
     "data": {
      "text/plain": [
       "8.0"
      ]
     },
     "execution_count": 56,
     "metadata": {},
     "output_type": "execute_result"
    }
   ],
   "source": [
    "from scipy.stats import mode\n",
    "\n",
    "mode(Survey_Fixed, axis=0)[0][0] #have to put a double [0] because it maintains an extra wrapper, \n",
    "                                #can also input  \"keepdims=True\" to remove warning (says in warning)"
   ]
  },
  {
   "cell_type": "markdown",
   "id": "fd287be8",
   "metadata": {
    "jp-MarkdownHeadingCollapsed": true
   },
   "source": [
    "# Formatting Outputs"
   ]
  },
  {
   "cell_type": "code",
   "execution_count": 31,
   "id": "8ef47ea5",
   "metadata": {},
   "outputs": [],
   "source": [
    "mean = np.mean(Survey_Fixed, axis=0)\n",
    "median = np.median(Survey_Fixed, axis=0)\n",
    "modes = mode(Survey_Fixed, axis=0, keepdims=True)[0][0] \n",
    "std_dev = np.std(Survey_Fixed, axis=0)\n",
    "max_values = np.max(Survey_Fixed, axis=0)\n",
    "min_values = np.min(Survey_Fixed, axis=0)"
   ]
  },
  {
   "cell_type": "code",
   "execution_count": 19,
   "id": "e68e043f",
   "metadata": {
    "scrolled": true
   },
   "outputs": [
    {
     "name": "stdout",
     "output_type": "stream",
     "text": [
      "Statistics for column 'Conv':\n",
      "  Mean: 6.350463154168388\n",
      "  Median: 7.0\n",
      "  Mode: 8.0\n",
      "  Standard Deviation: 1.9483605538939086\n",
      "  Max: 10.0\n",
      "  Min: 1.0\n",
      "\n",
      "Statistics for column 'Wait':\n",
      "  Mean: -6.985171199874133\n",
      "  Median: -8.0\n",
      "  Mode: -22.0\n",
      "  Standard Deviation: 15.658485520706819\n",
      "  Max: 35.0\n",
      "  Min: -50.0\n",
      "\n",
      "Statistics for column 'Value':\n",
      "  Mean: 23.461443152988377\n",
      "  Median: 24.0\n",
      "  Mode: 28.0\n",
      "  Standard Deviation: 8.694781894486175\n",
      "  Max: 53.0\n",
      "  Min: 1.0\n",
      "\n",
      "Statistics for column 'Quality':\n",
      "  Mean: 27.343520758353492\n",
      "  Median: 29.0\n",
      "  Mode: 37.0\n",
      "  Standard Deviation: 9.426508470736291\n",
      "  Max: 44.0\n",
      "  Min: 1.0\n",
      "\n",
      "Statistics for column 'Grade':\n",
      "  Mean: 50.17025586563612\n",
      "  Median: 51.0\n",
      "  Mode: 50.0\n",
      "  Standard Deviation: 19.00310301667647\n",
      "  Max: 105.0\n",
      "  Min: -25.0\n",
      "\n"
     ]
    }
   ],
   "source": [
    "for i, headers in enumerate(Survey_Headers): #enumerate gives a combination of a (#, item)\n",
    "    print(f\"Statistics for column '{headers}':\")\n",
    "    print(f\"  Mean: {mean[i]}\")      # f-strings are string literals that have an f before the opening quotation mark.\n",
    "    print(f\"  Median: {median[i]}\")  # They format expressions enclosed in curly braces to their resulting values   \n",
    "    print(f\"  Mode: {modes[i]}\")\n",
    "    print(f\"  Standard Deviation: {std_dev[i]}\")\n",
    "    print(f\"  Max: {max_values[i]}\")\n",
    "    print(f\"  Min: {min_values[i]}\")\n",
    "    print()"
   ]
  },
  {
   "cell_type": "markdown",
   "id": "9fc826f6-e8bc-48e6-a2a1-fe5950b1a05f",
   "metadata": {
    "jp-MarkdownHeadingCollapsed": true
   },
   "source": [
    "# Python Exercise 3 - Descriptive Statistics"
   ]
  },
  {
   "cell_type": "markdown",
   "id": "23bc37c9",
   "metadata": {},
   "source": [
    "<table>\n",
    "            <tr>\n",
    "                <td colspan=\"2\" align=\"left\"><strong>Survey Goals</strong></td>\n",
    "            </tr>\n",
    "            <tr>\n",
    "                <td><strong>Convenience</strong></td>\n",
    "                <td>6</td>\n",
    "            </tr>\n",
    "            <tr>\n",
    "                <td><strong>Wait</strong></td>\n",
    "                <td>12</td>\n",
    "            </tr>\n",
    "            <tr>\n",
    "                <td><strong>Value</strong></td>\n",
    "                <td>18</td>\n",
    "            </tr>\n",
    "            <tr>\n",
    "                <td><strong>Quality</strong></td>\n",
    "                <td>24</td>\n",
    "            </tr>\n",
    "            <tr>\n",
    "                <td><strong>Overall</strong></td>\n",
    "                <td>60</td>\n",
    "            </tr>\n",
    "        </table>"
   ]
  },
  {
   "cell_type": "markdown",
   "id": "61d7093a-46db-41c1-be17-4980d6f6c430",
   "metadata": {},
   "source": [
    "### 1. Based on our survey goals from Corporate, where do we seem to be failing the most?"
   ]
  },
  {
   "cell_type": "markdown",
   "id": "acdbffad-8536-4513-a974-c2a92ad94600",
   "metadata": {},
   "source": [
    "We seem to be failing the most with our Wait rating."
   ]
  },
  {
   "cell_type": "markdown",
   "id": "0ba2710b-4542-4572-80ed-7c68de89edea",
   "metadata": {},
   "source": [
    "### 2. Apply the same summary statistics to all process times. Where do we seem to spend a majority of our sandwich making process?\n",
    "    a.) Cycle Times: Bread_CT, Cheese_CT, ..., Payment_CT, & Cycle"
   ]
  },
  {
   "cell_type": "code",
   "execution_count": 67,
   "id": "4a5eacb2-feaa-4ee2-a549-14a11b2c88fa",
   "metadata": {},
   "outputs": [],
   "source": [
    "Process_Headers = ['Bread_CT', 'Cheese_CT', 'Protein_CT', 'Produce_CT', 'Wrap_CT', 'Payment_CT', 'Cycle']"
   ]
  },
  {
   "cell_type": "code",
   "execution_count": 68,
   "id": "e8b59ba0-d389-4a33-bd45-d5f58aee4f91",
   "metadata": {},
   "outputs": [
    {
     "name": "stdout",
     "output_type": "stream",
     "text": [
      "[0] [4]\n",
      "[0] [5]\n",
      "[0] [6]\n",
      "[0] [7]\n",
      "[0] [8]\n",
      "[0] [9]\n",
      "[0] [10]\n"
     ]
    }
   ],
   "source": [
    "for i in Process_Headers:\n",
    "    print(np.where(store_cleaned == i)[0], np.where(store_cleaned == i)[1])"
   ]
  },
  {
   "cell_type": "code",
   "execution_count": 69,
   "id": "b41e3c78-b712-4060-a029-9b0288433a3c",
   "metadata": {},
   "outputs": [
    {
     "data": {
      "text/plain": [
       "array([[ 40.,  41.,  18., ...,  21.,  39., 230.],\n",
       "       [ 45.,  43.,  21., ...,  19.,  51., 231.],\n",
       "       [ 80.,  32.,  25., ...,  17.,  27., 197.],\n",
       "       ...,\n",
       "       [ 55.,  27.,  17., ...,  12.,  29., 179.],\n",
       "       [ 48.,  38.,  18., ...,  16.,  38., 282.],\n",
       "       [ 41.,  27.,   6., ...,  18.,  38., 167.]])"
      ]
     },
     "execution_count": 69,
     "metadata": {},
     "output_type": "execute_result"
    }
   ],
   "source": [
    "Process_Times = store_cleaned[1:, list(range(4,11))].astype(float)\n",
    "Process_Times"
   ]
  },
  {
   "cell_type": "code",
   "execution_count": 70,
   "id": "baf939a2-d348-4dd0-a043-01c5db3692f9",
   "metadata": {},
   "outputs": [],
   "source": [
    "def d_stats(Survey_Fixed):\n",
    "    mean = np.mean(Survey_Fixed, axis=0)\n",
    "    median = np.median(Survey_Fixed, axis=0)\n",
    "    modes = mode(Survey_Fixed, axis=0, keepdims=True)[0][0] \n",
    "    std_dev = np.std(Survey_Fixed, axis=0)\n",
    "    max_values = np.max(Survey_Fixed, axis=0)\n",
    "    min_values = np.min(Survey_Fixed, axis=0)\n",
    "    return mean, median, modes, std_dev, max_values, min_values"
   ]
  },
  {
   "cell_type": "code",
   "execution_count": 71,
   "id": "444c85cd-593d-4bc5-b7a3-0a95f934c804",
   "metadata": {},
   "outputs": [],
   "source": [
    "mean, median, modes, std_dev, max_values, min_values = d_stats(Process_Times)"
   ]
  },
  {
   "cell_type": "code",
   "execution_count": 72,
   "id": "88e8b9e5-107b-444e-b27a-6a2eb382584e",
   "metadata": {},
   "outputs": [
    {
     "name": "stdout",
     "output_type": "stream",
     "text": [
      "Statistics for column 'Bread_CT':\n",
      "  Mean: 71.92101795582828\n",
      "  Median: 73.0\n",
      "  Mode: 81.0\n",
      "  Standard Deviation: 29.18582522740088\n",
      "  Max: 228.0\n",
      "  Min: 5.0\n",
      "\n",
      "Statistics for column 'Cheese_CT':\n",
      "  Mean: 32.96660569945129\n",
      "  Median: 32.0\n",
      "  Mode: 31.0\n",
      "  Standard Deviation: 9.935684473544224\n",
      "  Max: 86.0\n",
      "  Min: 5.0\n",
      "\n",
      "Statistics for column 'Protein_CT':\n",
      "  Mean: 14.074852007001397\n",
      "  Median: 13.0\n",
      "  Mode: 10.0\n",
      "  Standard Deviation: 6.096056076232438\n",
      "  Max: 41.0\n",
      "  Min: 1.0\n",
      "\n",
      "Statistics for column 'Produce_CT':\n",
      "  Mean: 50.623930615375535\n",
      "  Median: 50.0\n",
      "  Mode: 47.0\n",
      "  Standard Deviation: 16.389245474510822\n",
      "  Max: 143.0\n",
      "  Min: -20.0\n",
      "\n",
      "Statistics for column 'Wrap_CT':\n",
      "  Mean: 15.90225578696875\n",
      "  Median: 15.0\n",
      "  Mode: 14.0\n",
      "  Standard Deviation: 4.011905824746231\n",
      "  Max: 34.0\n",
      "  Min: 6.0\n",
      "\n",
      "Statistics for column 'Payment_CT':\n",
      "  Mean: 108.54787893091037\n",
      "  Median: 118.0\n",
      "  Mode: 120.0\n",
      "  Standard Deviation: 49.737489968900206\n",
      "  Max: 241.0\n",
      "  Min: -47.0\n",
      "\n",
      "Statistics for column 'Cycle':\n",
      "  Mean: 294.03654099553563\n",
      "  Median: 300.0\n",
      "  Mode: 303.0\n",
      "  Standard Deviation: 75.29493344648553\n",
      "  Max: 568.0\n",
      "  Min: 84.0\n",
      "\n"
     ]
    }
   ],
   "source": [
    "for i, headers in enumerate(Process_Headers): #enumerate gives a combination of a (#, item)\n",
    "    print(f\"Statistics for column '{headers}':\")\n",
    "    print(f\"  Mean: {mean[i]}\")      # f-strings are string literals that have an f before the opening quotation mark.\n",
    "    print(f\"  Median: {median[i]}\")  # They format expressions enclosed in curly braces to their resulting values   \n",
    "    print(f\"  Mode: {modes[i]}\")\n",
    "    print(f\"  Standard Deviation: {std_dev[i]}\")\n",
    "    print(f\"  Max: {max_values[i]}\")\n",
    "    print(f\"  Min: {min_values[i]}\")\n",
    "    print()"
   ]
  },
  {
   "cell_type": "code",
   "execution_count": null,
   "id": "8c193ef3-c00c-4b6a-8620-233657abaf5c",
   "metadata": {},
   "outputs": [],
   "source": [
    "def d_stats(headers):\n",
    "    array_columns = []\n",
    "    for i in Headers:\n",
    "        array_columns.append(np.where(store_cleaned == i)[1][0])\n",
    "    \n",
    "    Survey_Results = store_cleaned[1::, range(array_columns[0], array_columns[len(array_columns)-1]+1)]\n",
    "    \n",
    "    Survey_Fixed = Survey_Results.astype(float)\n",
    "    \n",
    "    means = np.mean(Survey_Fixed, axis=0)\n",
    "    medians = np.median(Survey_Fixed, axis=0)\n",
    "    stds = np.std(Survey_Fixed, axis=0)\n",
    "    maxes = np.max(Survey_Fixed, axis=0)\n",
    "    mins = np.min(Survey_Fixed, axis=0)\n",
    "    modes = mode(Survey_Fixed, axis=0)[0]\n",
    "    \n",
    "    for i, j in enumerate(Headers):\n",
    "        print(f\"Statistics for column '{j}':\")\n",
    "        print(f\"  Mean: {means[i]:.2f}\")\n",
    "        print(f\"  Median: {medians[i]:.2f}\")\n",
    "        print(f\"  Mode: {modes[i]:.2f}\")\n",
    "        print(f\"  Standard Deviation: {stds[i]:.2f}\")\n",
    "        print(f\"  Max: {maxes[i]:.2f}\")\n",
    "        print(f\"  Min: {mins[i]:.2f}\")\n",
    "        print()"
   ]
  }
 ],
 "metadata": {
  "kernelspec": {
   "display_name": "Python 3 (ipykernel)",
   "language": "python",
   "name": "python3"
  },
  "language_info": {
   "codemirror_mode": {
    "name": "ipython",
    "version": 3
   },
   "file_extension": ".py",
   "mimetype": "text/x-python",
   "name": "python",
   "nbconvert_exporter": "python",
   "pygments_lexer": "ipython3",
   "version": "3.11.9"
  }
 },
 "nbformat": 4,
 "nbformat_minor": 5
}

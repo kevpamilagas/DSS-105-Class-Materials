{
 "cells": [
  {
   "cell_type": "markdown",
   "id": "32c016b8",
   "metadata": {},
   "source": [
    "<img src=\"Smart_Fresh.jpg\" alt=\"Smart and Fresh Logo\" style=\"float: left; margin-right: 10px;\" />"
   ]
  },
  {
   "cell_type": "markdown",
   "id": "481655ef",
   "metadata": {},
   "source": [
    "<div style=\"display: flex; justify-content: center;\">\n",
    "    <div style=\"margin-right: 20px;\">\n",
    "        <table>\n",
    "            <tr>\n",
    "                <td colspan=\"4\" align=\"center\"><strong>Sandwich Prices</strong></td>\n",
    "            </tr>\n",
    "            <tr>\n",
    "                <td align=\"center\"><strong>Menu #</strong></td>\n",
    "                <td align=\"center\"><strong>Sandwich</strong></td>\n",
    "                <td align=\"center\"><strong>6\"</strong></td>\n",
    "                <td align=\"center\"><strong>12\"</strong></td>\n",
    "            </tr>\n",
    "            <tr>\n",
    "                <td>1</td>\n",
    "                <td>Cold Cut</td>\n",
    "                <td>\\$3.75</td>\n",
    "                <td>\\$5.50</td>\n",
    "            </tr>\n",
    "            <tr>\n",
    "                <td>2</td>\n",
    "                <td>BLT</td>\n",
    "                <td>\\$3.75</td>\n",
    "                <td>\\$5.50</td>\n",
    "            </tr>\n",
    "            <tr>\n",
    "                <td>3</td>\n",
    "                <td>Italian</td>\n",
    "                <td>\\$4.25</td>\n",
    "                <td>\\$6.75</td>\n",
    "            </tr>\n",
    "            <tr>\n",
    "                <td>4</td>\n",
    "                <td>Meatball</td>\n",
    "                <td>\\$3.75</td>\n",
    "                <td>\\$5.50</td>\n",
    "            </tr>\n",
    "            <tr>\n",
    "                <td>5</td>\n",
    "                <td>Chicken</td>\n",
    "                <td>\\$4.75</td>\n",
    "                <td>\\$7.75</td>\n",
    "            </tr>\n",
    "            <tr>\n",
    "                <td>6</td>\n",
    "                <td>Steak</td>\n",
    "                <td>\\$4.75</td>\n",
    "                <td>\\$7.75</td>\n",
    "            </tr>\n",
    "            <tr>\n",
    "                <td>7</td>\n",
    "                <td>Pastrami</td>\n",
    "                <td>\\$4.75</td>\n",
    "                <td>\\$6.75</td>\n",
    "            </tr>\n",
    "        </table>\n",
    "    </div>\n",
    "    <div>\n",
    "        <table>\n",
    "            <tr>\n",
    "                <td colspan=\"4\" align=\"center\"><strong>Sandwich Cost</strong></td>\n",
    "            </tr>\n",
    "            <tr>\n",
    "                <td align=\"center\"><strong>Menu #</strong></td>\n",
    "                <td align=\"center\"><strong>Sandwich</strong></td>\n",
    "                <td align=\"center\"><strong>6\"</strong></td>\n",
    "                <td align=\"center\"><strong>12\"</strong></td>\n",
    "            </tr>\n",
    "            <tr>\n",
    "                <td>1</td>\n",
    "                <td>Cold Cut</td>\n",
    "                <td>\\$0.70</td>\n",
    "                <td>\\$1.33</td>\n",
    "            </tr>\n",
    "            <tr>\n",
    "                <td>2</td>\n",
    "                <td>BLT</td>\n",
    "                <td>\\$0.73</td>\n",
    "                <td>\\$1.39</td>\n",
    "            </tr>\n",
    "            <tr>\n",
    "                <td>3</td>\n",
    "                <td>Italian</td>\n",
    "                <td>\\$0.81</td>\n",
    "                <td>\\$1.54</td>\n",
    "            </tr>\n",
    "            <tr>\n",
    "                <td>4</td>\n",
    "                <td>Meatball</td>\n",
    "                <td>\\$0.65</td>\n",
    "                <td>\\$1.23</td>\n",
    "            </tr>\n",
    "            <tr>\n",
    "                <td>5</td>\n",
    "                <td>Chicken</td>\n",
    "                <td>\\$0.93</td>\n",
    "                <td>\\$1.78</td>\n",
    "            </tr>\n",
    "            <tr>\n",
    "                <td>6</td>\n",
    "                <td>Steak</td>\n",
    "                <td>\\$1.05</td>\n",
    "                <td>\\$2.02</td>\n",
    "            </tr>\n",
    "            <tr>\n",
    "                <td>7</td>\n",
    "                <td>Pastrami</td>\n",
    "                <td>\\$0.80</td>\n",
    "                <td>\\$1.52</td>\n",
    "            </tr>\n",
    "        </table>\n",
    "    </div>\n",
    "    <div style=\"margin-left: 20px;\">\n",
    "    <table>\n",
    "      <tr>\n",
    "        <td colspan=\"3\" align=\"center\"><strong>Shifts</strong></td>\n",
    "      </tr>\n",
    "      <tr>\n",
    "        <td><strong>Morning</strong></td>\n",
    "        <td>1000</td>\n",
    "        <td>1059</td>  \n",
    "      </tr>\n",
    "      <tr>\n",
    "        <td><strong>Lunch</strong></td>\n",
    "        <td>1100</td>\n",
    "        <td>1359</td>  \n",
    "      </tr>\n",
    "      <tr>\n",
    "        <td><strong>Mid-Day</strong></td>\n",
    "        <td>1400</td>\n",
    "        <td>1559</td>  \n",
    "      </tr>\n",
    "      <tr>\n",
    "        <td><strong>Dinner</strong></td>\n",
    "        <td>1600</td>\n",
    "        <td>2059</td>  \n",
    "      </tr>\n",
    "      <tr>\n",
    "        <td><strong>Evening</strong></td>\n",
    "        <td>2100</td>\n",
    "        <td>2200</td>  \n",
    "      </tr>        \n",
    "    </table>\n",
    "  </div>\n",
    "</div>\n"
   ]
  },
  {
   "cell_type": "markdown",
   "id": "771c9296",
   "metadata": {},
   "source": [
    "<div style=\"display: flex; justify-content: center;\">\n",
    "    <div style=\"margin-right: 20px;\">\n",
    "        <table>\n",
    "            <tr>\n",
    "                <td colspan=\"2\" align=\"center\"><strong>Promotions</strong></td>\n",
    "            </tr>\n",
    "            <tr>\n",
    "                <td><strong>January</strong></td>\n",
    "                <td>\\$5 Footlong</td>\n",
    "            </tr>\n",
    "            <tr>\n",
    "                <td><strong>February</strong></td>\n",
    "                <td>25% off Steak Sandwich</td>\n",
    "            </tr>\n",
    "            <tr>\n",
    "                <td><strong>October</strong></td>\n",
    "                <td>25% off Italian Sandwich</td>\n",
    "            </tr>\n",
    "            <tr>\n",
    "                <td><strong>November</strong></td>\n",
    "                <td>\\$5 Footlong</td>\n",
    "            </tr>\n",
    "        </table>\n",
    "    </div>\n",
    "    <div>\n",
    "        <table>\n",
    "            <tr>\n",
    "                <td colspan=\"2\" align=\"center\"><strong>Business Priorities (KPIs)</strong></td>\n",
    "            </tr>\n",
    "            <tr>\n",
    "                <td>1</td>\n",
    "                <td>Quality</td>\n",
    "            </tr>\n",
    "            <tr>\n",
    "                <td>2</td>\n",
    "                <td>Customer Satisfaction</td>\n",
    "            </tr>\n",
    "            <tr>\n",
    "                <td>3</td>\n",
    "                <td>Cost</td>\n",
    "            </tr>\n",
    "            <tr>\n",
    "                <td>4</td>\n",
    "                <td>Gross Sales</td>\n",
    "            </tr>\n",
    "        </table>\n",
    "    </div>\n",
    "</div>\n"
   ]
  },
  {
   "cell_type": "markdown",
   "id": "846f746e",
   "metadata": {},
   "source": [
    "<div class=\"alert alert-block alert-info\"><b>Info:</b> You are a store manager for a leading international sandwich franchise.  You have been asked to conduct analysis for your store to identify some of the issues it has been having over the past year.</div>"
   ]
  },
  {
   "cell_type": "markdown",
   "id": "ea1234fb",
   "metadata": {},
   "source": [
    "# Import required Libraries"
   ]
  },
  {
   "cell_type": "code",
   "execution_count": null,
   "id": "fe567773",
   "metadata": {},
   "outputs": [],
   "source": []
  },
  {
   "cell_type": "markdown",
   "id": "06a00d87",
   "metadata": {},
   "source": [
    "# Read in .csv file as NumPy Array"
   ]
  },
  {
   "cell_type": "code",
   "execution_count": null,
   "id": "4886a160",
   "metadata": {},
   "outputs": [],
   "source": []
  },
  {
   "cell_type": "markdown",
   "id": "9c36ddfc",
   "metadata": {},
   "source": [
    "# Cleaning NumPy Arrays"
   ]
  },
  {
   "cell_type": "code",
   "execution_count": null,
   "id": "dc6d6362",
   "metadata": {},
   "outputs": [],
   "source": []
  },
  {
   "cell_type": "code",
   "execution_count": null,
   "id": "40658bd5",
   "metadata": {},
   "outputs": [],
   "source": []
  },
  {
   "cell_type": "code",
   "execution_count": null,
   "id": "0ea90a46",
   "metadata": {},
   "outputs": [],
   "source": []
  },
  {
   "cell_type": "markdown",
   "id": "3417c505",
   "metadata": {},
   "source": [
    "# Slicing NumPy Arrays"
   ]
  },
  {
   "cell_type": "code",
   "execution_count": null,
   "id": "83fa9087",
   "metadata": {},
   "outputs": [],
   "source": []
  },
  {
   "cell_type": "code",
   "execution_count": null,
   "id": "1b1d37e2",
   "metadata": {},
   "outputs": [],
   "source": []
  },
  {
   "cell_type": "code",
   "execution_count": null,
   "id": "55039ed6",
   "metadata": {},
   "outputs": [],
   "source": []
  },
  {
   "cell_type": "code",
   "execution_count": null,
   "id": "82fd4bc9",
   "metadata": {},
   "outputs": [],
   "source": []
  },
  {
   "cell_type": "markdown",
   "id": "1ab9b0a3",
   "metadata": {},
   "source": [
    "# Calculate Summary Statistics"
   ]
  },
  {
   "cell_type": "code",
   "execution_count": null,
   "id": "02fa8406",
   "metadata": {},
   "outputs": [],
   "source": []
  },
  {
   "cell_type": "code",
   "execution_count": null,
   "id": "09aa4b58",
   "metadata": {},
   "outputs": [],
   "source": []
  },
  {
   "cell_type": "code",
   "execution_count": null,
   "id": "be06674a",
   "metadata": {},
   "outputs": [],
   "source": []
  },
  {
   "cell_type": "code",
   "execution_count": null,
   "id": "86fd1ecc",
   "metadata": {},
   "outputs": [],
   "source": []
  },
  {
   "cell_type": "code",
   "execution_count": null,
   "id": "4549c2c0",
   "metadata": {},
   "outputs": [],
   "source": []
  },
  {
   "cell_type": "markdown",
   "id": "fd287be8",
   "metadata": {},
   "source": [
    "# Formatting Outputs"
   ]
  },
  {
   "cell_type": "code",
   "execution_count": null,
   "id": "8ef47ea5",
   "metadata": {},
   "outputs": [],
   "source": []
  },
  {
   "cell_type": "code",
   "execution_count": null,
   "id": "e68e043f",
   "metadata": {
    "scrolled": true
   },
   "outputs": [],
   "source": []
  }
 ],
 "metadata": {
  "kernelspec": {
   "display_name": "Python 3 (ipykernel)",
   "language": "python",
   "name": "python3"
  },
  "language_info": {
   "codemirror_mode": {
    "name": "ipython",
    "version": 3
   },
   "file_extension": ".py",
   "mimetype": "text/x-python",
   "name": "python",
   "nbconvert_exporter": "python",
   "pygments_lexer": "ipython3",
   "version": "3.11.7"
  }
 },
 "nbformat": 4,
 "nbformat_minor": 5
}

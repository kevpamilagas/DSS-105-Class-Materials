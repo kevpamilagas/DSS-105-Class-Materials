{
 "cells": [
  {
   "cell_type": "markdown",
   "id": "0b0d00e6",
   "metadata": {
    "jp-MarkdownHeadingCollapsed": true
   },
   "source": [
    "## Creating Functions"
   ]
  },
  {
   "cell_type": "code",
   "execution_count": 20,
   "id": "b9d618c7",
   "metadata": {},
   "outputs": [],
   "source": [
    "range1 = range(6)"
   ]
  },
  {
   "cell_type": "code",
   "execution_count": 21,
   "id": "7499f20f",
   "metadata": {},
   "outputs": [
    {
     "data": {
      "text/plain": [
       "range(0, 6)"
      ]
     },
     "execution_count": 21,
     "metadata": {},
     "output_type": "execute_result"
    }
   ],
   "source": [
    "range1"
   ]
  },
  {
   "cell_type": "code",
   "execution_count": 22,
   "id": "f8b09caa",
   "metadata": {},
   "outputs": [
    {
     "data": {
      "text/plain": [
       "3"
      ]
     },
     "execution_count": 22,
     "metadata": {},
     "output_type": "execute_result"
    }
   ],
   "source": [
    "3 ** 1"
   ]
  },
  {
   "cell_type": "code",
   "execution_count": 23,
   "id": "f8f1211a",
   "metadata": {},
   "outputs": [],
   "source": [
    "def expo_3(val):\n",
    "    return 3 ** val"
   ]
  },
  {
   "cell_type": "code",
   "execution_count": 24,
   "id": "c2e22c88",
   "metadata": {},
   "outputs": [
    {
     "name": "stdout",
     "output_type": "stream",
     "text": [
      "[1, 3, 9, 27, 81, 243]\n"
     ]
    }
   ],
   "source": [
    "expo = []\n",
    "\n",
    "for i in range1:\n",
    "    expo.append(expo_3(i))\n",
    "\n",
    "print(expo)"
   ]
  },
  {
   "cell_type": "code",
   "execution_count": null,
   "id": "917a921c-bb63-4af9-b2db-1e599fe359be",
   "metadata": {},
   "outputs": [],
   "source": [
    "list_1 = []\n",
    "\n",
    "for i in range_1:\n",
    "    list_1.append(i**2)\n",
    "\n",
    "list_1"
   ]
  },
  {
   "cell_type": "code",
   "execution_count": null,
   "id": "8e41dba7-ac60-4bf0-856a-4cd38e63a326",
   "metadata": {},
   "outputs": [],
   "source": [
    "def expo_list(a):\n",
    "    list_1 = []\n",
    "    \n",
    "    for i in a:\n",
    "        list_1.append(i**2)\n",
    "    \n",
    "    return list_1 "
   ]
  },
  {
   "cell_type": "markdown",
   "id": "f4bb1c70",
   "metadata": {
    "jp-MarkdownHeadingCollapsed": true
   },
   "source": [
    "## Creating Classes"
   ]
  },
  {
   "cell_type": "code",
   "execution_count": null,
   "id": "50e2c60e-2fd8-40f0-987a-743d0d67423d",
   "metadata": {},
   "outputs": [],
   "source": [
    "type(range1)"
   ]
  },
  {
   "cell_type": "code",
   "execution_count": 28,
   "id": "8a91c022-514d-464a-af3e-375c2b826945",
   "metadata": {},
   "outputs": [
    {
     "name": "stdout",
     "output_type": "stream",
     "text": [
      "0\n",
      "6\n",
      "1\n"
     ]
    }
   ],
   "source": [
    "#With our \"range1\" variable it actually has attributes called \"instances\"\n",
    "#what were the three attributes we mentioned about range (start, stop, step)\n",
    "#ask them what were the values we set?\n",
    "#type range1 then . then hit tab\n",
    "print(range1.start)\n",
    "print(range1.stop)\n",
    "print(range1.step)"
   ]
  },
  {
   "cell_type": "code",
   "execution_count": 14,
   "id": "9f3081bb",
   "metadata": {},
   "outputs": [],
   "source": [
    "#we can actually create our own class or object in Python\n",
    "class Dog:\n",
    "\n",
    "    # Initializer/Define our instance/attributes\n",
    "    def __init__(self, dog_breed, dog_color, dog_sex, dog_name = None):\n",
    "        self.breed = dog_breed\n",
    "        self.color = dog_color\n",
    "        self.sex = dog_sex\n",
    "        self.name = dog_name\n",
    "        #add this after you created the method/function\n",
    "        self.state = 'Neutral'\n",
    "\n",
    "    def sit(self):\n",
    "        if self.state != 'Sitting':\n",
    "            print(self.name + ' sits. Good dog!')\n",
    "            self.state = 'Sitting'\n",
    "        else: \n",
    "            print(self.name + ' is confused.')\n",
    "\n",
    "    #add this after showing sit\n",
    "    def stand(self):\n",
    "        print(self.name + \" stands. Good dog!\")\n",
    "        self.state = 'Stand'"
   ]
  },
  {
   "cell_type": "code",
   "execution_count": 30,
   "id": "c8aab72d",
   "metadata": {},
   "outputs": [
    {
     "data": {
      "text/plain": [
       "__main__.Dog"
      ]
     },
     "execution_count": 30,
     "metadata": {},
     "output_type": "execute_result"
    }
   ],
   "source": [
    "# Creating an instance of the Dog class\n",
    "dog_1 = Dog('cockapoo', 'cream', 'f', 'Zoe')\n",
    "\n",
    "#run once then for the sake of showing, show what happens if we don't give the dog an age\n",
    "dog_1"
   ]
  },
  {
   "cell_type": "code",
   "execution_count": null,
   "id": "c5c813bf-6c60-49f2-a716-93eb1b54b96f",
   "metadata": {},
   "outputs": [],
   "source": [
    "type(dog_1)"
   ]
  },
  {
   "cell_type": "code",
   "execution_count": 31,
   "id": "d4402582-b280-4150-a899-efb7dc4c8d38",
   "metadata": {},
   "outputs": [
    {
     "name": "stdout",
     "output_type": "stream",
     "text": [
      "4\n",
      "<class 'int'>\n"
     ]
    }
   ],
   "source": [
    "print(dog_1.breed)\n",
    "print(dog_1.name)"
   ]
  },
  {
   "cell_type": "code",
   "execution_count": 17,
   "id": "0af7fb37",
   "metadata": {},
   "outputs": [
    {
     "name": "stdout",
     "output_type": "stream",
     "text": [
      "Zoe says: Woof!\n"
     ]
    }
   ],
   "source": [
    "dog_1.sit()\n",
    "\n",
    "#add this after creating the state instance\n",
    "dog_1.state"
   ]
  },
  {
   "cell_type": "code",
   "execution_count": 9,
   "id": "72bc8ab3",
   "metadata": {},
   "outputs": [
    {
     "name": "stdout",
     "output_type": "stream",
     "text": [
      "1\n",
      "Louie says: Woof!\n"
     ]
    }
   ],
   "source": [
    "dog_1.stand()\n",
    "dog_1.state"
   ]
  },
  {
   "cell_type": "code",
   "execution_count": null,
   "id": "16bbea0d-f480-47c2-9462-369e6dcfc428",
   "metadata": {},
   "outputs": [],
   "source": []
  }
 ],
 "metadata": {
  "kernelspec": {
   "display_name": "Python 3 (ipykernel)",
   "language": "python",
   "name": "python3"
  },
  "language_info": {
   "codemirror_mode": {
    "name": "ipython",
    "version": 3
   },
   "file_extension": ".py",
   "mimetype": "text/x-python",
   "name": "python",
   "nbconvert_exporter": "python",
   "pygments_lexer": "ipython3",
   "version": "3.11.9"
  }
 },
 "nbformat": 4,
 "nbformat_minor": 5
}

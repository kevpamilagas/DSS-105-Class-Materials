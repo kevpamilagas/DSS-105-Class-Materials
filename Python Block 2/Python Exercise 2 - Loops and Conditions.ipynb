{
 "cells": [
  {
   "cell_type": "markdown",
   "id": "ace7373e-43c2-40a9-ab6c-afada10c5398",
   "metadata": {},
   "source": [
    "## 1. Create a list of numbers from 0 to 100 that are divisible by 4 or 5."
   ]
  },
  {
   "cell_type": "code",
   "execution_count": null,
   "id": "199b4e84-92cc-4483-86dc-5eded128e4f4",
   "metadata": {},
   "outputs": [],
   "source": []
  },
  {
   "cell_type": "markdown",
   "id": "1773a2c5-0df1-47ce-9230-4550db18ae3c",
   "metadata": {},
   "source": [
    "## 2. Add the numbers 3, 6, and 9 to the list and sort the list from least to greatest."
   ]
  },
  {
   "cell_type": "code",
   "execution_count": null,
   "id": "50b420fd-e0a8-4621-930d-a50a1b6c9095",
   "metadata": {},
   "outputs": [],
   "source": []
  },
  {
   "cell_type": "markdown",
   "id": "8b218919-26da-404c-a72b-41dc2e58234c",
   "metadata": {},
   "source": [
    "## 3. Using the updated numbers list, create a dictionary for all the numbers and their squared values. (i.e., {0: 0, 3: 9, ...})"
   ]
  },
  {
   "cell_type": "code",
   "execution_count": null,
   "id": "10c7f38e-ac52-4944-ada1-9f90933a7c59",
   "metadata": {},
   "outputs": [],
   "source": []
  },
  {
   "cell_type": "markdown",
   "id": "0ca6d1a7-a747-4a4b-88a8-557e3607db79",
   "metadata": {},
   "source": [
    "## 4. Sum all the squared values in the dictionary."
   ]
  },
  {
   "cell_type": "code",
   "execution_count": null,
   "id": "8975f5ac-4f2f-486b-9223-1a35359e9219",
   "metadata": {},
   "outputs": [],
   "source": []
  }
 ],
 "metadata": {
  "kernelspec": {
   "display_name": "Python 3 (ipykernel)",
   "language": "python",
   "name": "python3"
  },
  "language_info": {
   "codemirror_mode": {
    "name": "ipython",
    "version": 3
   },
   "file_extension": ".py",
   "mimetype": "text/x-python",
   "name": "python",
   "nbconvert_exporter": "python",
   "pygments_lexer": "ipython3",
   "version": "3.11.7"
  }
 },
 "nbformat": 4,
 "nbformat_minor": 5
}
